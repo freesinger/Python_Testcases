{
 "cells": [
  {
   "cell_type": "code",
   "execution_count": 1,
   "metadata": {
    "scrolled": false
   },
   "outputs": [
    {
     "data": {
      "text/html": [
       "<div>\n",
       "<style scoped>\n",
       "    .dataframe tbody tr th:only-of-type {\n",
       "        vertical-align: middle;\n",
       "    }\n",
       "\n",
       "    .dataframe tbody tr th {\n",
       "        vertical-align: top;\n",
       "    }\n",
       "\n",
       "    .dataframe thead th {\n",
       "        text-align: right;\n",
       "    }\n",
       "</style>\n",
       "<table border=\"1\" class=\"dataframe\">\n",
       "  <thead>\n",
       "    <tr style=\"text-align: right;\">\n",
       "      <th></th>\n",
       "      <th>country</th>\n",
       "      <th>description</th>\n",
       "      <th>designation</th>\n",
       "      <th>points</th>\n",
       "      <th>price</th>\n",
       "      <th>province</th>\n",
       "      <th>region_1</th>\n",
       "      <th>region_2</th>\n",
       "      <th>variety</th>\n",
       "      <th>winery</th>\n",
       "    </tr>\n",
       "  </thead>\n",
       "  <tbody>\n",
       "    <tr>\n",
       "      <th>0</th>\n",
       "      <td>US</td>\n",
       "      <td>This tremendous 100% varietal wine hails from ...</td>\n",
       "      <td>Martha's Vineyard</td>\n",
       "      <td>96</td>\n",
       "      <td>235.0</td>\n",
       "      <td>California</td>\n",
       "      <td>Napa Valley</td>\n",
       "      <td>Napa</td>\n",
       "      <td>Cabernet Sauvignon</td>\n",
       "      <td>Heitz</td>\n",
       "    </tr>\n",
       "    <tr>\n",
       "      <th>1</th>\n",
       "      <td>Spain</td>\n",
       "      <td>Ripe aromas of fig, blackberry and cassis are ...</td>\n",
       "      <td>Carodorum Selección Especial Reserva</td>\n",
       "      <td>96</td>\n",
       "      <td>110.0</td>\n",
       "      <td>Northern Spain</td>\n",
       "      <td>Toro</td>\n",
       "      <td>NaN</td>\n",
       "      <td>Tinta de Toro</td>\n",
       "      <td>Bodega Carmen Rodríguez</td>\n",
       "    </tr>\n",
       "    <tr>\n",
       "      <th>2</th>\n",
       "      <td>US</td>\n",
       "      <td>Mac Watson honors the memory of a wine once ma...</td>\n",
       "      <td>Special Selected Late Harvest</td>\n",
       "      <td>96</td>\n",
       "      <td>90.0</td>\n",
       "      <td>California</td>\n",
       "      <td>Knights Valley</td>\n",
       "      <td>Sonoma</td>\n",
       "      <td>Sauvignon Blanc</td>\n",
       "      <td>Macauley</td>\n",
       "    </tr>\n",
       "    <tr>\n",
       "      <th>3</th>\n",
       "      <td>US</td>\n",
       "      <td>This spent 20 months in 30% new French oak, an...</td>\n",
       "      <td>Reserve</td>\n",
       "      <td>96</td>\n",
       "      <td>65.0</td>\n",
       "      <td>Oregon</td>\n",
       "      <td>Willamette Valley</td>\n",
       "      <td>Willamette Valley</td>\n",
       "      <td>Pinot Noir</td>\n",
       "      <td>Ponzi</td>\n",
       "    </tr>\n",
       "    <tr>\n",
       "      <th>4</th>\n",
       "      <td>France</td>\n",
       "      <td>This is the top wine from La Bégude, named aft...</td>\n",
       "      <td>La Brûlade</td>\n",
       "      <td>95</td>\n",
       "      <td>66.0</td>\n",
       "      <td>Provence</td>\n",
       "      <td>Bandol</td>\n",
       "      <td>NaN</td>\n",
       "      <td>Provence red blend</td>\n",
       "      <td>Domaine de la Bégude</td>\n",
       "    </tr>\n",
       "  </tbody>\n",
       "</table>\n",
       "</div>"
      ],
      "text/plain": [
       "  country                                        description  \\\n",
       "0      US  This tremendous 100% varietal wine hails from ...   \n",
       "1   Spain  Ripe aromas of fig, blackberry and cassis are ...   \n",
       "2      US  Mac Watson honors the memory of a wine once ma...   \n",
       "3      US  This spent 20 months in 30% new French oak, an...   \n",
       "4  France  This is the top wine from La Bégude, named aft...   \n",
       "\n",
       "                            designation  points  price        province  \\\n",
       "0                     Martha's Vineyard      96  235.0      California   \n",
       "1  Carodorum Selección Especial Reserva      96  110.0  Northern Spain   \n",
       "2         Special Selected Late Harvest      96   90.0      California   \n",
       "3                               Reserve      96   65.0          Oregon   \n",
       "4                            La Brûlade      95   66.0        Provence   \n",
       "\n",
       "            region_1           region_2             variety  \\\n",
       "0        Napa Valley               Napa  Cabernet Sauvignon   \n",
       "1               Toro                NaN       Tinta de Toro   \n",
       "2     Knights Valley             Sonoma     Sauvignon Blanc   \n",
       "3  Willamette Valley  Willamette Valley          Pinot Noir   \n",
       "4             Bandol                NaN  Provence red blend   \n",
       "\n",
       "                    winery  \n",
       "0                    Heitz  \n",
       "1  Bodega Carmen Rodríguez  \n",
       "2                 Macauley  \n",
       "3                    Ponzi  \n",
       "4     Domaine de la Bégude  "
      ]
     },
     "execution_count": 1,
     "metadata": {},
     "output_type": "execute_result"
    }
   ],
   "source": [
    "import pandas as pd\n",
    "import matplotlib.pyplot as plt\n",
    "import numpy as np\n",
    "\n",
    "plt.style.use('seaborn-whitegrid')\n",
    "pd.set_option('display.max_rows', None)\n",
    "raw = pd.read_csv('winemag-data_first150k.csv')\n",
    "\n",
    "review = raw.copy(deep=True).drop('Unnamed: 0', axis=1)\n",
    "review.head()"
   ]
  },
  {
   "cell_type": "markdown",
   "metadata": {},
   "source": [
    "The data consists of 10 fields:\n",
    "\n",
    "- *Points*: the number of points WineEnthusiast rated the wine on a scale of 1-100 (though they say they only post reviews for wines that score >=80)\n",
    "- *Title*: the title of the wine review, which often contains the vintage if you're interested in extracting that feature\n",
    "- *Variety*: the type of grapes used to make the wine (ie Pinot Noir)\n",
    "- *Description*: a few sentences from a sommelier describing the wine's taste, smell, look, feel, etc.\n",
    "- *Country*: the country that the wine is from\n",
    "- *Province*: the province or state that the wine is from\n",
    "- *Region 1*: the wine growing area in a province or state (ie Napa)\n",
    "- *Region 2*: sometimes there are more specific regions specified within a wine growing area (ie Rutherford inside the Napa Valley), but this value can sometimes be blank\n",
    "- *Winery*: the winery that made the wine\n",
    "- *Designation*: the vineyard within the winery where the grapes that made the wine are from\n",
    "- *Price*: the cost for a bottle of the wine \n",
    "- *Taster Name*: name of the person who tasted and reviewed the wine\n",
    "- *Taster Twitter Handle*: Twitter handle for the person who tasted ane reviewed the wine"
   ]
  },
  {
   "cell_type": "code",
   "execution_count": 2,
   "metadata": {},
   "outputs": [
    {
     "name": "stdout",
     "output_type": "stream",
     "text": [
      "<class 'pandas.core.frame.DataFrame'>\n",
      "RangeIndex: 150930 entries, 0 to 150929\n",
      "Data columns (total 10 columns):\n",
      "country        150925 non-null object\n",
      "description    150930 non-null object\n",
      "designation    105195 non-null object\n",
      "points         150930 non-null int64\n",
      "price          137235 non-null float64\n",
      "province       150925 non-null object\n",
      "region_1       125870 non-null object\n",
      "region_2       60953 non-null object\n",
      "variety        150930 non-null object\n",
      "winery         150930 non-null object\n",
      "dtypes: float64(1), int64(1), object(8)\n",
      "memory usage: 11.5+ MB\n"
     ]
    }
   ],
   "source": [
    "review.info() # (150930, 10)\n",
    "total_sample = 150930"
   ]
  },
  {
   "cell_type": "code",
   "execution_count": 3,
   "metadata": {},
   "outputs": [
    {
     "data": {
      "text/html": [
       "<div>\n",
       "<style scoped>\n",
       "    .dataframe tbody tr th:only-of-type {\n",
       "        vertical-align: middle;\n",
       "    }\n",
       "\n",
       "    .dataframe tbody tr th {\n",
       "        vertical-align: top;\n",
       "    }\n",
       "\n",
       "    .dataframe thead th {\n",
       "        text-align: right;\n",
       "    }\n",
       "</style>\n",
       "<table border=\"1\" class=\"dataframe\">\n",
       "  <thead>\n",
       "    <tr style=\"text-align: right;\">\n",
       "      <th></th>\n",
       "      <th>points</th>\n",
       "      <th>price</th>\n",
       "    </tr>\n",
       "  </thead>\n",
       "  <tbody>\n",
       "    <tr>\n",
       "      <th>count</th>\n",
       "      <td>150930.000000</td>\n",
       "      <td>137235.000000</td>\n",
       "    </tr>\n",
       "    <tr>\n",
       "      <th>mean</th>\n",
       "      <td>87.888418</td>\n",
       "      <td>33.131482</td>\n",
       "    </tr>\n",
       "    <tr>\n",
       "      <th>std</th>\n",
       "      <td>3.222392</td>\n",
       "      <td>36.322536</td>\n",
       "    </tr>\n",
       "    <tr>\n",
       "      <th>min</th>\n",
       "      <td>80.000000</td>\n",
       "      <td>4.000000</td>\n",
       "    </tr>\n",
       "    <tr>\n",
       "      <th>25%</th>\n",
       "      <td>86.000000</td>\n",
       "      <td>16.000000</td>\n",
       "    </tr>\n",
       "    <tr>\n",
       "      <th>50%</th>\n",
       "      <td>88.000000</td>\n",
       "      <td>24.000000</td>\n",
       "    </tr>\n",
       "    <tr>\n",
       "      <th>75%</th>\n",
       "      <td>90.000000</td>\n",
       "      <td>40.000000</td>\n",
       "    </tr>\n",
       "    <tr>\n",
       "      <th>max</th>\n",
       "      <td>100.000000</td>\n",
       "      <td>2300.000000</td>\n",
       "    </tr>\n",
       "  </tbody>\n",
       "</table>\n",
       "</div>"
      ],
      "text/plain": [
       "              points          price\n",
       "count  150930.000000  137235.000000\n",
       "mean       87.888418      33.131482\n",
       "std         3.222392      36.322536\n",
       "min        80.000000       4.000000\n",
       "25%        86.000000      16.000000\n",
       "50%        88.000000      24.000000\n",
       "75%        90.000000      40.000000\n",
       "max       100.000000    2300.000000"
      ]
     },
     "execution_count": 3,
     "metadata": {},
     "output_type": "execute_result"
    }
   ],
   "source": [
    "review.describe()"
   ]
  },
  {
   "cell_type": "code",
   "execution_count": 4,
   "metadata": {},
   "outputs": [
    {
     "name": "stdout",
     "output_type": "stream",
     "text": [
      "country has 5 missing value , with 0.0033% missing rate\n",
      "designation has 45735 missing value , with 30.3021% missing rate\n",
      "price has 13695 missing value , with 9.0737% missing rate\n",
      "province has 5 missing value , with 0.0033% missing rate\n",
      "region_1 has 25060 missing value , with 16.6037% missing rate\n",
      "region_2 has 89977 missing value , with 59.6151% missing rate\n"
     ]
    },
    {
     "data": {
      "text/plain": [
       "Text(0.5, 1.0, 'Missing Value')"
      ]
     },
     "execution_count": 4,
     "metadata": {},
     "output_type": "execute_result"
    },
    {
     "data": {
      "image/png": "[encoded data removed]",
      "text/plain": [
       "<Figure size 432x288 with 1 Axes>"
      ]
     },
     "metadata": {
      "needs_background": "light"
     },
     "output_type": "display_data"
    }
   ],
   "source": [
    "# Features has missing values\n",
    "feat = list()\n",
    "missing_num = list()\n",
    "\n",
    "for col in review.columns:\n",
    "    if True in review[col].isnull().values:\n",
    "        feat.append(col)\n",
    "        number = review[col].isnull().sum()\n",
    "        missing_num.append(number)\n",
    "        print(col, 'has {} missing value'.format(number), \\\n",
    "              ', with {0:.4f}% missing rate'.format(number / total_sample * 100))\n",
    "\n",
    "x, y = feat, missing_num\n",
    "plt.bar(x, y, alpha=1)\n",
    "plt.xlabel('Features')\n",
    "plt.ylabel('Missing number')\n",
    "plt.title('Missing Value')"
   ]
  },
  {
   "cell_type": "code",
   "execution_count": 5,
   "metadata": {},
   "outputs": [
    {
     "data": {
      "text/plain": [
       "array(['US', 'Spain', 'France', 'Italy', 'New Zealand', 'Bulgaria',\n",
       "       'Argentina', 'Australia', 'Portugal', 'Israel', 'South Africa',\n",
       "       'Greece', 'Chile', 'Morocco', 'Romania', 'Germany', 'Canada',\n",
       "       'Moldova', 'Hungary', 'Austria', 'Croatia', 'Slovenia', nan,\n",
       "       'India', 'Turkey', 'Macedonia', 'Lebanon', 'Serbia', 'Uruguay',\n",
       "       'Switzerland', 'Albania', 'Bosnia and Herzegovina', 'Brazil',\n",
       "       'Cyprus', 'Lithuania', 'Japan', 'China', 'South Korea', 'Ukraine',\n",
       "       'England', 'Mexico', 'Georgia', 'Montenegro', 'Luxembourg',\n",
       "       'Slovakia', 'Czech Republic', 'Egypt', 'Tunisia', 'US-France'],\n",
       "      dtype=object)"
      ]
     },
     "execution_count": 5,
     "metadata": {},
     "output_type": "execute_result"
    }
   ],
   "source": [
    "# Country\n",
    "countries = review.country.unique() # nan\n",
    "countries"
   ]
  },
  {
   "cell_type": "code",
   "execution_count": 6,
   "metadata": {},
   "outputs": [
    {
     "data": {
      "text/plain": [
       "5"
      ]
     },
     "execution_count": 6,
     "metadata": {},
     "output_type": "execute_result"
    }
   ],
   "source": [
    "review.country.isnull().sum()"
   ]
  },
  {
   "cell_type": "code",
   "execution_count": 7,
   "metadata": {
    "scrolled": true
   },
   "outputs": [
    {
     "data": {
      "text/html": [
       "<div>\n",
       "<style scoped>\n",
       "    .dataframe tbody tr th:only-of-type {\n",
       "        vertical-align: middle;\n",
       "    }\n",
       "\n",
       "    .dataframe tbody tr th {\n",
       "        vertical-align: top;\n",
       "    }\n",
       "\n",
       "    .dataframe thead th {\n",
       "        text-align: right;\n",
       "    }\n",
       "</style>\n",
       "<table border=\"1\" class=\"dataframe\">\n",
       "  <thead>\n",
       "    <tr style=\"text-align: right;\">\n",
       "      <th></th>\n",
       "      <th>country</th>\n",
       "      <th>description</th>\n",
       "      <th>designation</th>\n",
       "      <th>points</th>\n",
       "      <th>price</th>\n",
       "      <th>province</th>\n",
       "      <th>region_1</th>\n",
       "      <th>region_2</th>\n",
       "      <th>variety</th>\n",
       "      <th>winery</th>\n",
       "    </tr>\n",
       "  </thead>\n",
       "  <tbody>\n",
       "    <tr>\n",
       "      <th>1133</th>\n",
       "      <td>NaN</td>\n",
       "      <td>Delicate white flowers and a spin of lemon pee...</td>\n",
       "      <td>Askitikos</td>\n",
       "      <td>90</td>\n",
       "      <td>17.0</td>\n",
       "      <td>NaN</td>\n",
       "      <td>NaN</td>\n",
       "      <td>NaN</td>\n",
       "      <td>Assyrtiko</td>\n",
       "      <td>Tsililis</td>\n",
       "    </tr>\n",
       "    <tr>\n",
       "      <th>1440</th>\n",
       "      <td>NaN</td>\n",
       "      <td>A blend of 60% Syrah, 30% Cabernet Sauvignon a...</td>\n",
       "      <td>Shah</td>\n",
       "      <td>90</td>\n",
       "      <td>30.0</td>\n",
       "      <td>NaN</td>\n",
       "      <td>NaN</td>\n",
       "      <td>NaN</td>\n",
       "      <td>Red Blend</td>\n",
       "      <td>Büyülübağ</td>\n",
       "    </tr>\n",
       "    <tr>\n",
       "      <th>68226</th>\n",
       "      <td>NaN</td>\n",
       "      <td>From first sniff to last, the nose never makes...</td>\n",
       "      <td>Piedra Feliz</td>\n",
       "      <td>81</td>\n",
       "      <td>15.0</td>\n",
       "      <td>NaN</td>\n",
       "      <td>NaN</td>\n",
       "      <td>NaN</td>\n",
       "      <td>Pinot Noir</td>\n",
       "      <td>Chilcas</td>\n",
       "    </tr>\n",
       "    <tr>\n",
       "      <th>113016</th>\n",
       "      <td>NaN</td>\n",
       "      <td>From first sniff to last, the nose never makes...</td>\n",
       "      <td>Piedra Feliz</td>\n",
       "      <td>81</td>\n",
       "      <td>15.0</td>\n",
       "      <td>NaN</td>\n",
       "      <td>NaN</td>\n",
       "      <td>NaN</td>\n",
       "      <td>Pinot Noir</td>\n",
       "      <td>Chilcas</td>\n",
       "    </tr>\n",
       "    <tr>\n",
       "      <th>135696</th>\n",
       "      <td>NaN</td>\n",
       "      <td>From first sniff to last, the nose never makes...</td>\n",
       "      <td>Piedra Feliz</td>\n",
       "      <td>81</td>\n",
       "      <td>15.0</td>\n",
       "      <td>NaN</td>\n",
       "      <td>NaN</td>\n",
       "      <td>NaN</td>\n",
       "      <td>Pinot Noir</td>\n",
       "      <td>Chilcas</td>\n",
       "    </tr>\n",
       "  </tbody>\n",
       "</table>\n",
       "</div>"
      ],
      "text/plain": [
       "       country                                        description  \\\n",
       "1133       NaN  Delicate white flowers and a spin of lemon pee...   \n",
       "1440       NaN  A blend of 60% Syrah, 30% Cabernet Sauvignon a...   \n",
       "68226      NaN  From first sniff to last, the nose never makes...   \n",
       "113016     NaN  From first sniff to last, the nose never makes...   \n",
       "135696     NaN  From first sniff to last, the nose never makes...   \n",
       "\n",
       "         designation  points  price province region_1 region_2     variety  \\\n",
       "1133       Askitikos      90   17.0      NaN      NaN      NaN   Assyrtiko   \n",
       "1440            Shah      90   30.0      NaN      NaN      NaN   Red Blend   \n",
       "68226   Piedra Feliz      81   15.0      NaN      NaN      NaN  Pinot Noir   \n",
       "113016  Piedra Feliz      81   15.0      NaN      NaN      NaN  Pinot Noir   \n",
       "135696  Piedra Feliz      81   15.0      NaN      NaN      NaN  Pinot Noir   \n",
       "\n",
       "           winery  \n",
       "1133     Tsililis  \n",
       "1440    Büyülübağ  \n",
       "68226     Chilcas  \n",
       "113016    Chilcas  \n",
       "135696    Chilcas  "
      ]
     },
     "execution_count": 7,
     "metadata": {},
     "output_type": "execute_result"
    }
   ],
   "source": [
    "review.loc[pd.isnull(review.country)]"
   ]
  },
  {
   "cell_type": "code",
   "execution_count": 8,
   "metadata": {},
   "outputs": [
    {
     "data": {
      "text/plain": [
       "30622"
      ]
     },
     "execution_count": 8,
     "metadata": {},
     "output_type": "execute_result"
    }
   ],
   "source": [
    "# Designation\n",
    "des = review.designation.unique()\n",
    "len(des)"
   ]
  },
  {
   "cell_type": "code",
   "execution_count": 9,
   "metadata": {},
   "outputs": [
    {
     "data": {
      "text/plain": [
       "45735"
      ]
     },
     "execution_count": 9,
     "metadata": {},
     "output_type": "execute_result"
    }
   ],
   "source": [
    "review.designation.isnull().sum()"
   ]
  },
  {
   "cell_type": "code",
   "execution_count": 10,
   "metadata": {},
   "outputs": [
    {
     "data": {
      "text/html": [
       "<div>\n",
       "<style scoped>\n",
       "    .dataframe tbody tr th:only-of-type {\n",
       "        vertical-align: middle;\n",
       "    }\n",
       "\n",
       "    .dataframe tbody tr th {\n",
       "        vertical-align: top;\n",
       "    }\n",
       "\n",
       "    .dataframe thead th {\n",
       "        text-align: right;\n",
       "    }\n",
       "</style>\n",
       "<table border=\"1\" class=\"dataframe\">\n",
       "  <thead>\n",
       "    <tr style=\"text-align: right;\">\n",
       "      <th></th>\n",
       "      <th>country</th>\n",
       "      <th>description</th>\n",
       "      <th>designation</th>\n",
       "      <th>points</th>\n",
       "      <th>price</th>\n",
       "      <th>province</th>\n",
       "      <th>region_1</th>\n",
       "      <th>region_2</th>\n",
       "      <th>variety</th>\n",
       "      <th>winery</th>\n",
       "    </tr>\n",
       "  </thead>\n",
       "  <tbody>\n",
       "    <tr>\n",
       "      <th>36</th>\n",
       "      <td>France</td>\n",
       "      <td>Gingery spice notes accent fresh pear and melo...</td>\n",
       "      <td>NaN</td>\n",
       "      <td>90</td>\n",
       "      <td>60.0</td>\n",
       "      <td>Rhône Valley</td>\n",
       "      <td>Châteauneuf-du-Pape</td>\n",
       "      <td>NaN</td>\n",
       "      <td>Rhône-style White Blend</td>\n",
       "      <td>Clos de L'Oratoire des Papes</td>\n",
       "    </tr>\n",
       "    <tr>\n",
       "      <th>37</th>\n",
       "      <td>Italy</td>\n",
       "      <td>Aromas of forest floor, violet, red berry and ...</td>\n",
       "      <td>NaN</td>\n",
       "      <td>90</td>\n",
       "      <td>29.0</td>\n",
       "      <td>Tuscany</td>\n",
       "      <td>Vino Nobile di Montepulciano</td>\n",
       "      <td>NaN</td>\n",
       "      <td>Sangiovese</td>\n",
       "      <td>Avignonesi</td>\n",
       "    </tr>\n",
       "    <tr>\n",
       "      <th>38</th>\n",
       "      <td>Italy</td>\n",
       "      <td>This has a charming nose that boasts rose, vio...</td>\n",
       "      <td>NaN</td>\n",
       "      <td>90</td>\n",
       "      <td>23.0</td>\n",
       "      <td>Tuscany</td>\n",
       "      <td>Chianti Classico</td>\n",
       "      <td>NaN</td>\n",
       "      <td>Sangiovese</td>\n",
       "      <td>Casina di Cornia</td>\n",
       "    </tr>\n",
       "    <tr>\n",
       "      <th>48</th>\n",
       "      <td>Italy</td>\n",
       "      <td>Ripe dark-skinned berry, forest floor and cook...</td>\n",
       "      <td>NaN</td>\n",
       "      <td>90</td>\n",
       "      <td>50.0</td>\n",
       "      <td>Tuscany</td>\n",
       "      <td>Brunello di Montalcino</td>\n",
       "      <td>NaN</td>\n",
       "      <td>Sangiovese</td>\n",
       "      <td>Brunelli Martoccia</td>\n",
       "    </tr>\n",
       "    <tr>\n",
       "      <th>49</th>\n",
       "      <td>US</td>\n",
       "      <td>The aromas of blue fruit, herbs and spice are ...</td>\n",
       "      <td>NaN</td>\n",
       "      <td>90</td>\n",
       "      <td>40.0</td>\n",
       "      <td>Washington</td>\n",
       "      <td>Red Mountain</td>\n",
       "      <td>Columbia Valley</td>\n",
       "      <td>Cabernet Sauvignon</td>\n",
       "      <td>Canvasback</td>\n",
       "    </tr>\n",
       "  </tbody>\n",
       "</table>\n",
       "</div>"
      ],
      "text/plain": [
       "   country                                        description designation  \\\n",
       "36  France  Gingery spice notes accent fresh pear and melo...         NaN   \n",
       "37   Italy  Aromas of forest floor, violet, red berry and ...         NaN   \n",
       "38   Italy  This has a charming nose that boasts rose, vio...         NaN   \n",
       "48   Italy  Ripe dark-skinned berry, forest floor and cook...         NaN   \n",
       "49      US  The aromas of blue fruit, herbs and spice are ...         NaN   \n",
       "\n",
       "    points  price      province                      region_1  \\\n",
       "36      90   60.0  Rhône Valley           Châteauneuf-du-Pape   \n",
       "37      90   29.0       Tuscany  Vino Nobile di Montepulciano   \n",
       "38      90   23.0       Tuscany              Chianti Classico   \n",
       "48      90   50.0       Tuscany        Brunello di Montalcino   \n",
       "49      90   40.0    Washington                  Red Mountain   \n",
       "\n",
       "           region_2                  variety                        winery  \n",
       "36              NaN  Rhône-style White Blend  Clos de L'Oratoire des Papes  \n",
       "37              NaN               Sangiovese                    Avignonesi  \n",
       "38              NaN               Sangiovese              Casina di Cornia  \n",
       "48              NaN               Sangiovese            Brunelli Martoccia  \n",
       "49  Columbia Valley       Cabernet Sauvignon                    Canvasback  "
      ]
     },
     "execution_count": 10,
     "metadata": {},
     "output_type": "execute_result"
    }
   ],
   "source": [
    "review.loc[pd.isnull(review.designation)].head()"
   ]
  },
  {
   "cell_type": "code",
   "execution_count": 11,
   "metadata": {},
   "outputs": [
    {
     "data": {
      "text/plain": [
       "array([ 96,  95,  94,  90,  91,  86,  89,  88,  87,  93,  92,  85,  84,\n",
       "        83,  82,  81, 100,  99,  98,  97,  80])"
      ]
     },
     "execution_count": 11,
     "metadata": {},
     "output_type": "execute_result"
    }
   ],
   "source": [
    "# Points\n",
    "p = review.points.unique()\n",
    "p # no missing point"
   ]
  },
  {
   "cell_type": "code",
   "execution_count": 12,
   "metadata": {},
   "outputs": [
    {
     "data": {
      "text/plain": [
       "0"
      ]
     },
     "execution_count": 12,
     "metadata": {},
     "output_type": "execute_result"
    }
   ],
   "source": [
    "pd.isnull(review.points).sum()"
   ]
  },
  {
   "cell_type": "code",
   "execution_count": 13,
   "metadata": {},
   "outputs": [
    {
     "data": {
      "text/plain": [
       "count    150930.000000\n",
       "mean         87.888418\n",
       "std           3.222392\n",
       "min          80.000000\n",
       "25%          86.000000\n",
       "50%          88.000000\n",
       "75%          90.000000\n",
       "max         100.000000\n",
       "Name: points, dtype: float64"
      ]
     },
     "execution_count": 13,
     "metadata": {},
     "output_type": "execute_result"
    }
   ],
   "source": [
    "review['points'].describe()"
   ]
  },
  {
   "cell_type": "code",
   "execution_count": 14,
   "metadata": {
    "scrolled": true
   },
   "outputs": [
    {
     "data": {
      "text/plain": [
       "Text(0.5, 1.0, 'Point Distribution')"
      ]
     },
     "execution_count": 14,
     "metadata": {},
     "output_type": "execute_result"
    },
    {
     "data": {
      "image/png": "[encoded data removed]",
      "text/plain": [
       "<Figure size 432x288 with 1 Axes>"
      ]
     },
     "metadata": {
      "needs_background": "light"
     },
     "output_type": "display_data"
    }
   ],
   "source": [
    "plt.hist(review['points'],  density=True, alpha=1,\n",
    "        histtype='bar', color='steelblue', \n",
    "        edgecolor='k')\n",
    "plt.xlabel('Points')\n",
    "plt.ylabel('Number')\n",
    "plt.title('Point Distribution')"
   ]
  },
  {
   "cell_type": "code",
   "execution_count": 15,
   "metadata": {
    "scrolled": true
   },
   "outputs": [
    {
     "data": {
      "text/html": [
       "<div>\n",
       "<style scoped>\n",
       "    .dataframe tbody tr th:only-of-type {\n",
       "        vertical-align: middle;\n",
       "    }\n",
       "\n",
       "    .dataframe tbody tr th {\n",
       "        vertical-align: top;\n",
       "    }\n",
       "\n",
       "    .dataframe thead th {\n",
       "        text-align: right;\n",
       "    }\n",
       "</style>\n",
       "<table border=\"1\" class=\"dataframe\">\n",
       "  <thead>\n",
       "    <tr style=\"text-align: right;\">\n",
       "      <th></th>\n",
       "      <th>country</th>\n",
       "      <th>description</th>\n",
       "      <th>designation</th>\n",
       "      <th>points</th>\n",
       "      <th>price</th>\n",
       "      <th>province</th>\n",
       "      <th>region_1</th>\n",
       "      <th>region_2</th>\n",
       "      <th>variety</th>\n",
       "      <th>winery</th>\n",
       "    </tr>\n",
       "  </thead>\n",
       "  <tbody>\n",
       "    <tr>\n",
       "      <th>0</th>\n",
       "      <td>US</td>\n",
       "      <td>This tremendous 100% varietal wine hails from ...</td>\n",
       "      <td>Martha's Vineyard</td>\n",
       "      <td>96</td>\n",
       "      <td>235.0</td>\n",
       "      <td>California</td>\n",
       "      <td>Napa Valley</td>\n",
       "      <td>Napa</td>\n",
       "      <td>Cabernet Sauvignon</td>\n",
       "      <td>Heitz</td>\n",
       "    </tr>\n",
       "    <tr>\n",
       "      <th>1</th>\n",
       "      <td>Spain</td>\n",
       "      <td>Ripe aromas of fig, blackberry and cassis are ...</td>\n",
       "      <td>Carodorum Selección Especial Reserva</td>\n",
       "      <td>96</td>\n",
       "      <td>110.0</td>\n",
       "      <td>Northern Spain</td>\n",
       "      <td>Toro</td>\n",
       "      <td>NaN</td>\n",
       "      <td>Tinta de Toro</td>\n",
       "      <td>Bodega Carmen Rodríguez</td>\n",
       "    </tr>\n",
       "    <tr>\n",
       "      <th>2</th>\n",
       "      <td>US</td>\n",
       "      <td>Mac Watson honors the memory of a wine once ma...</td>\n",
       "      <td>Special Selected Late Harvest</td>\n",
       "      <td>96</td>\n",
       "      <td>90.0</td>\n",
       "      <td>California</td>\n",
       "      <td>Knights Valley</td>\n",
       "      <td>Sonoma</td>\n",
       "      <td>Sauvignon Blanc</td>\n",
       "      <td>Macauley</td>\n",
       "    </tr>\n",
       "    <tr>\n",
       "      <th>3</th>\n",
       "      <td>US</td>\n",
       "      <td>This spent 20 months in 30% new French oak, an...</td>\n",
       "      <td>Reserve</td>\n",
       "      <td>96</td>\n",
       "      <td>65.0</td>\n",
       "      <td>Oregon</td>\n",
       "      <td>Willamette Valley</td>\n",
       "      <td>Willamette Valley</td>\n",
       "      <td>Pinot Noir</td>\n",
       "      <td>Ponzi</td>\n",
       "    </tr>\n",
       "    <tr>\n",
       "      <th>4</th>\n",
       "      <td>France</td>\n",
       "      <td>This is the top wine from La Bégude, named aft...</td>\n",
       "      <td>La Brûlade</td>\n",
       "      <td>95</td>\n",
       "      <td>66.0</td>\n",
       "      <td>Provence</td>\n",
       "      <td>Bandol</td>\n",
       "      <td>NaN</td>\n",
       "      <td>Provence red blend</td>\n",
       "      <td>Domaine de la Bégude</td>\n",
       "    </tr>\n",
       "    <tr>\n",
       "      <th>5</th>\n",
       "      <td>Spain</td>\n",
       "      <td>Deep, dense and pure from the opening bell, th...</td>\n",
       "      <td>Numanthia</td>\n",
       "      <td>95</td>\n",
       "      <td>73.0</td>\n",
       "      <td>Northern Spain</td>\n",
       "      <td>Toro</td>\n",
       "      <td>NaN</td>\n",
       "      <td>Tinta de Toro</td>\n",
       "      <td>Numanthia</td>\n",
       "    </tr>\n",
       "    <tr>\n",
       "      <th>6</th>\n",
       "      <td>Spain</td>\n",
       "      <td>Slightly gritty black-fruit aromas include a s...</td>\n",
       "      <td>San Román</td>\n",
       "      <td>95</td>\n",
       "      <td>65.0</td>\n",
       "      <td>Northern Spain</td>\n",
       "      <td>Toro</td>\n",
       "      <td>NaN</td>\n",
       "      <td>Tinta de Toro</td>\n",
       "      <td>Maurodos</td>\n",
       "    </tr>\n",
       "    <tr>\n",
       "      <th>7</th>\n",
       "      <td>Spain</td>\n",
       "      <td>Lush cedary black-fruit aromas are luxe and of...</td>\n",
       "      <td>Carodorum Único Crianza</td>\n",
       "      <td>95</td>\n",
       "      <td>110.0</td>\n",
       "      <td>Northern Spain</td>\n",
       "      <td>Toro</td>\n",
       "      <td>NaN</td>\n",
       "      <td>Tinta de Toro</td>\n",
       "      <td>Bodega Carmen Rodríguez</td>\n",
       "    </tr>\n",
       "    <tr>\n",
       "      <th>8</th>\n",
       "      <td>US</td>\n",
       "      <td>This re-named vineyard was formerly bottled as...</td>\n",
       "      <td>Silice</td>\n",
       "      <td>95</td>\n",
       "      <td>65.0</td>\n",
       "      <td>Oregon</td>\n",
       "      <td>Chehalem Mountains</td>\n",
       "      <td>Willamette Valley</td>\n",
       "      <td>Pinot Noir</td>\n",
       "      <td>Bergström</td>\n",
       "    </tr>\n",
       "    <tr>\n",
       "      <th>9</th>\n",
       "      <td>US</td>\n",
       "      <td>The producer sources from two blocks of the vi...</td>\n",
       "      <td>Gap's Crown Vineyard</td>\n",
       "      <td>95</td>\n",
       "      <td>60.0</td>\n",
       "      <td>California</td>\n",
       "      <td>Sonoma Coast</td>\n",
       "      <td>Sonoma</td>\n",
       "      <td>Pinot Noir</td>\n",
       "      <td>Blue Farm</td>\n",
       "    </tr>\n",
       "  </tbody>\n",
       "</table>\n",
       "</div>"
      ],
      "text/plain": [
       "  country                                        description  \\\n",
       "0      US  This tremendous 100% varietal wine hails from ...   \n",
       "1   Spain  Ripe aromas of fig, blackberry and cassis are ...   \n",
       "2      US  Mac Watson honors the memory of a wine once ma...   \n",
       "3      US  This spent 20 months in 30% new French oak, an...   \n",
       "4  France  This is the top wine from La Bégude, named aft...   \n",
       "5   Spain  Deep, dense and pure from the opening bell, th...   \n",
       "6   Spain  Slightly gritty black-fruit aromas include a s...   \n",
       "7   Spain  Lush cedary black-fruit aromas are luxe and of...   \n",
       "8      US  This re-named vineyard was formerly bottled as...   \n",
       "9      US  The producer sources from two blocks of the vi...   \n",
       "\n",
       "                            designation  points  price        province  \\\n",
       "0                     Martha's Vineyard      96  235.0      California   \n",
       "1  Carodorum Selección Especial Reserva      96  110.0  Northern Spain   \n",
       "2         Special Selected Late Harvest      96   90.0      California   \n",
       "3                               Reserve      96   65.0          Oregon   \n",
       "4                            La Brûlade      95   66.0        Provence   \n",
       "5                             Numanthia      95   73.0  Northern Spain   \n",
       "6                             San Román      95   65.0  Northern Spain   \n",
       "7               Carodorum Único Crianza      95  110.0  Northern Spain   \n",
       "8                                Silice      95   65.0          Oregon   \n",
       "9                  Gap's Crown Vineyard      95   60.0      California   \n",
       "\n",
       "             region_1           region_2             variety  \\\n",
       "0         Napa Valley               Napa  Cabernet Sauvignon   \n",
       "1                Toro                NaN       Tinta de Toro   \n",
       "2      Knights Valley             Sonoma     Sauvignon Blanc   \n",
       "3   Willamette Valley  Willamette Valley          Pinot Noir   \n",
       "4              Bandol                NaN  Provence red blend   \n",
       "5                Toro                NaN       Tinta de Toro   \n",
       "6                Toro                NaN       Tinta de Toro   \n",
       "7                Toro                NaN       Tinta de Toro   \n",
       "8  Chehalem Mountains  Willamette Valley          Pinot Noir   \n",
       "9        Sonoma Coast             Sonoma          Pinot Noir   \n",
       "\n",
       "                    winery  \n",
       "0                    Heitz  \n",
       "1  Bodega Carmen Rodríguez  \n",
       "2                 Macauley  \n",
       "3                    Ponzi  \n",
       "4     Domaine de la Bégude  \n",
       "5                Numanthia  \n",
       "6                 Maurodos  \n",
       "7  Bodega Carmen Rodríguez  \n",
       "8                Bergström  \n",
       "9                Blue Farm  "
      ]
     },
     "execution_count": 15,
     "metadata": {},
     "output_type": "execute_result"
    }
   ],
   "source": [
    "mean = review.points.mean()\n",
    "# review.points = review.points - mean\n",
    "review.head(10)"
   ]
  },
  {
   "cell_type": "code",
   "execution_count": 16,
   "metadata": {},
   "outputs": [
    {
     "data": {
      "text/plain": [
       "20.0    7860\n",
       "15.0    7056\n",
       "18.0    5988\n",
       "25.0    5955\n",
       "30.0    5449\n",
       "10.0    5255\n",
       "12.0    4950\n",
       "13.0    4479\n",
       "16.0    4273\n",
       "35.0    4194\n",
       "40.0    4018\n",
       "14.0    3879\n",
       "22.0    3723\n",
       "17.0    3513\n",
       "24.0    3443\n",
       "50.0    3415\n",
       "28.0    3352\n",
       "19.0    3288\n",
       "45.0    3243\n",
       "11.0    3114\n",
       "Name: price, dtype: int64"
      ]
     },
     "execution_count": 16,
     "metadata": {},
     "output_type": "execute_result"
    }
   ],
   "source": [
    "# Price\n",
    "price_counts = review.price.value_counts()\n",
    "price_counts.head(20)"
   ]
  },
  {
   "cell_type": "code",
   "execution_count": 17,
   "metadata": {
    "scrolled": false
   },
   "outputs": [
    {
     "data": {
      "text/plain": [
       "13695"
      ]
     },
     "execution_count": 17,
     "metadata": {},
     "output_type": "execute_result"
    }
   ],
   "source": [
    "pd.isnull(review.price).sum()"
   ]
  },
  {
   "cell_type": "code",
   "execution_count": 18,
   "metadata": {
    "scrolled": true
   },
   "outputs": [
    {
     "data": {
      "text/plain": [
       "count    137235.000000\n",
       "mean         33.131482\n",
       "std          36.322536\n",
       "min           4.000000\n",
       "25%          16.000000\n",
       "50%          24.000000\n",
       "75%          40.000000\n",
       "max        2300.000000\n",
       "Name: price, dtype: float64"
      ]
     },
     "execution_count": 18,
     "metadata": {},
     "output_type": "execute_result"
    }
   ],
   "source": [
    "review['price'].describe()"
   ]
  },
  {
   "cell_type": "code",
   "execution_count": 19,
   "metadata": {
    "scrolled": true
   },
   "outputs": [
    {
     "data": {
      "text/plain": [
       "array([235., 110.,  90.,  65.,  66.,  73.,  60.,  80.,  48., 185., 325.,\n",
       "       290.,  75.,  24.,  79., 220.,  45.,  57.,  62., 105.,  15.,  37.,\n",
       "        nan,  22.,  42., 135.,  29.,  23.,  17.,  26.,  55.,  39.,  69.,\n",
       "        30.,  50.,  40., 100.,  68.,  28.,  18.])"
      ]
     },
     "execution_count": 19,
     "metadata": {},
     "output_type": "execute_result"
    }
   ],
   "source": [
    "price = review.price.unique()\n",
    "price[: 40]"
   ]
  },
  {
   "cell_type": "code",
   "execution_count": 20,
   "metadata": {
    "scrolled": true
   },
   "outputs": [
    {
     "data": {
      "text/html": [
       "<div>\n",
       "<style scoped>\n",
       "    .dataframe tbody tr th:only-of-type {\n",
       "        vertical-align: middle;\n",
       "    }\n",
       "\n",
       "    .dataframe tbody tr th {\n",
       "        vertical-align: top;\n",
       "    }\n",
       "\n",
       "    .dataframe thead th {\n",
       "        text-align: right;\n",
       "    }\n",
       "</style>\n",
       "<table border=\"1\" class=\"dataframe\">\n",
       "  <thead>\n",
       "    <tr style=\"text-align: right;\">\n",
       "      <th></th>\n",
       "      <th>country</th>\n",
       "      <th>points</th>\n",
       "    </tr>\n",
       "  </thead>\n",
       "  <tbody>\n",
       "    <tr>\n",
       "      <th>32</th>\n",
       "      <td>Italy</td>\n",
       "      <td>90</td>\n",
       "    </tr>\n",
       "    <tr>\n",
       "      <th>56</th>\n",
       "      <td>France</td>\n",
       "      <td>90</td>\n",
       "    </tr>\n",
       "    <tr>\n",
       "      <th>72</th>\n",
       "      <td>Italy</td>\n",
       "      <td>91</td>\n",
       "    </tr>\n",
       "    <tr>\n",
       "      <th>82</th>\n",
       "      <td>Italy</td>\n",
       "      <td>91</td>\n",
       "    </tr>\n",
       "    <tr>\n",
       "      <th>116</th>\n",
       "      <td>Spain</td>\n",
       "      <td>86</td>\n",
       "    </tr>\n",
       "    <tr>\n",
       "      <th>242</th>\n",
       "      <td>France</td>\n",
       "      <td>88</td>\n",
       "    </tr>\n",
       "    <tr>\n",
       "      <th>261</th>\n",
       "      <td>France</td>\n",
       "      <td>88</td>\n",
       "    </tr>\n",
       "    <tr>\n",
       "      <th>282</th>\n",
       "      <td>France</td>\n",
       "      <td>92</td>\n",
       "    </tr>\n",
       "    <tr>\n",
       "      <th>294</th>\n",
       "      <td>France</td>\n",
       "      <td>91</td>\n",
       "    </tr>\n",
       "    <tr>\n",
       "      <th>323</th>\n",
       "      <td>Spain</td>\n",
       "      <td>94</td>\n",
       "    </tr>\n",
       "  </tbody>\n",
       "</table>\n",
       "</div>"
      ],
      "text/plain": [
       "    country  points\n",
       "32    Italy      90\n",
       "56   France      90\n",
       "72    Italy      91\n",
       "82    Italy      91\n",
       "116   Spain      86\n",
       "242  France      88\n",
       "261  France      88\n",
       "282  France      92\n",
       "294  France      91\n",
       "323   Spain      94"
      ]
     },
     "execution_count": 20,
     "metadata": {},
     "output_type": "execute_result"
    }
   ],
   "source": [
    "# row first, column second\n",
    "review.loc[pd.isnull(review.price), ['country', 'points']].head(10)"
   ]
  },
  {
   "cell_type": "code",
   "execution_count": 21,
   "metadata": {},
   "outputs": [
    {
     "data": {
      "text/html": [
       "<div>\n",
       "<style scoped>\n",
       "    .dataframe tbody tr th:only-of-type {\n",
       "        vertical-align: middle;\n",
       "    }\n",
       "\n",
       "    .dataframe tbody tr th {\n",
       "        vertical-align: top;\n",
       "    }\n",
       "\n",
       "    .dataframe thead th {\n",
       "        text-align: right;\n",
       "    }\n",
       "</style>\n",
       "<table border=\"1\" class=\"dataframe\">\n",
       "  <thead>\n",
       "    <tr style=\"text-align: right;\">\n",
       "      <th></th>\n",
       "      <th>country</th>\n",
       "      <th>description</th>\n",
       "      <th>designation</th>\n",
       "      <th>points</th>\n",
       "      <th>price</th>\n",
       "      <th>province</th>\n",
       "      <th>region_1</th>\n",
       "      <th>region_2</th>\n",
       "      <th>variety</th>\n",
       "      <th>winery</th>\n",
       "    </tr>\n",
       "  </thead>\n",
       "  <tbody>\n",
       "    <tr>\n",
       "      <th>32</th>\n",
       "      <td>Italy</td>\n",
       "      <td>Underbrush, scorched earth, menthol and plum s...</td>\n",
       "      <td>Vigna Piaggia</td>\n",
       "      <td>90</td>\n",
       "      <td>NaN</td>\n",
       "      <td>Tuscany</td>\n",
       "      <td>Brunello di Montalcino</td>\n",
       "      <td>NaN</td>\n",
       "      <td>Sangiovese</td>\n",
       "      <td>Abbadia Ardenga</td>\n",
       "    </tr>\n",
       "    <tr>\n",
       "      <th>56</th>\n",
       "      <td>France</td>\n",
       "      <td>Delicious while also young and textured, this ...</td>\n",
       "      <td>Le Pavé</td>\n",
       "      <td>90</td>\n",
       "      <td>NaN</td>\n",
       "      <td>Loire Valley</td>\n",
       "      <td>Sancerre</td>\n",
       "      <td>NaN</td>\n",
       "      <td>Sauvignon Blanc</td>\n",
       "      <td>Domaine Vacheron</td>\n",
       "    </tr>\n",
       "    <tr>\n",
       "      <th>72</th>\n",
       "      <td>Italy</td>\n",
       "      <td>This offers aromas of red rose, wild berry, da...</td>\n",
       "      <td>Bussia Riserva</td>\n",
       "      <td>91</td>\n",
       "      <td>NaN</td>\n",
       "      <td>Piedmont</td>\n",
       "      <td>Barolo</td>\n",
       "      <td>NaN</td>\n",
       "      <td>Nebbiolo</td>\n",
       "      <td>Silvano Bolmida</td>\n",
       "    </tr>\n",
       "    <tr>\n",
       "      <th>82</th>\n",
       "      <td>Italy</td>\n",
       "      <td>Berry, baking spice, dried iris, mint and a hi...</td>\n",
       "      <td>Palliano Riserva</td>\n",
       "      <td>91</td>\n",
       "      <td>NaN</td>\n",
       "      <td>Piedmont</td>\n",
       "      <td>Roero</td>\n",
       "      <td>NaN</td>\n",
       "      <td>Nebbiolo</td>\n",
       "      <td>Ceste</td>\n",
       "    </tr>\n",
       "    <tr>\n",
       "      <th>116</th>\n",
       "      <td>Spain</td>\n",
       "      <td>Aromas of brandied cherry and crème de cassis ...</td>\n",
       "      <td>Dulce Tinto</td>\n",
       "      <td>86</td>\n",
       "      <td>NaN</td>\n",
       "      <td>Levante</td>\n",
       "      <td>Jumilla</td>\n",
       "      <td>NaN</td>\n",
       "      <td>Monastrell</td>\n",
       "      <td>Casa de la Ermita</td>\n",
       "    </tr>\n",
       "  </tbody>\n",
       "</table>\n",
       "</div>"
      ],
      "text/plain": [
       "    country                                        description  \\\n",
       "32    Italy  Underbrush, scorched earth, menthol and plum s...   \n",
       "56   France  Delicious while also young and textured, this ...   \n",
       "72    Italy  This offers aromas of red rose, wild berry, da...   \n",
       "82    Italy  Berry, baking spice, dried iris, mint and a hi...   \n",
       "116   Spain  Aromas of brandied cherry and crème de cassis ...   \n",
       "\n",
       "          designation  points  price      province                region_1  \\\n",
       "32      Vigna Piaggia      90    NaN       Tuscany  Brunello di Montalcino   \n",
       "56            Le Pavé      90    NaN  Loire Valley                Sancerre   \n",
       "72     Bussia Riserva      91    NaN      Piedmont                  Barolo   \n",
       "82   Palliano Riserva      91    NaN      Piedmont                   Roero   \n",
       "116       Dulce Tinto      86    NaN       Levante                 Jumilla   \n",
       "\n",
       "    region_2          variety             winery  \n",
       "32       NaN       Sangiovese    Abbadia Ardenga  \n",
       "56       NaN  Sauvignon Blanc   Domaine Vacheron  \n",
       "72       NaN         Nebbiolo    Silvano Bolmida  \n",
       "82       NaN         Nebbiolo              Ceste  \n",
       "116      NaN       Monastrell  Casa de la Ermita  "
      ]
     },
     "execution_count": 21,
     "metadata": {},
     "output_type": "execute_result"
    }
   ],
   "source": [
    "review.loc[pd.isnull(review.price)].head()"
   ]
  },
  {
   "cell_type": "code",
   "execution_count": 22,
   "metadata": {
    "scrolled": false
   },
   "outputs": [
    {
     "data": {
      "text/plain": [
       "Text(0.5, 1.0, 'Price Distribution')"
      ]
     },
     "execution_count": 22,
     "metadata": {},
     "output_type": "execute_result"
    },
    {
     "data": {
      "image/png": "[encoded data removed]",
      "text/plain": [
       "<Figure size 432x288 with 1 Axes>"
      ]
     },
     "metadata": {
      "needs_background": "light"
     },
     "output_type": "display_data"
    }
   ],
   "source": [
    "review['price'] = review['price'].apply(lambda x: -20.0 if pd.isnull(x) else x)\n",
    "\n",
    "plt.hist(review['price'], alpha=1, color='r',\n",
    "         histtype='bar', density=False,\n",
    "         bins=1000)\n",
    "plt.axis([-30, 280, 0, 16000])\n",
    "plt.xlabel('Price')\n",
    "plt.ylabel('Number')\n",
    "plt.title('Price Distribution')\n",
    "# list(review[review['price'] > 200].index)"
   ]
  },
  {
   "cell_type": "code",
   "execution_count": 23,
   "metadata": {},
   "outputs": [
    {
     "data": {
      "text/plain": [
       "456"
      ]
     },
     "execution_count": 23,
     "metadata": {},
     "output_type": "execute_result"
    }
   ],
   "source": [
    "# Province\n",
    "prov = review.province.unique()\n",
    "len(prov)"
   ]
  },
  {
   "cell_type": "code",
   "execution_count": 24,
   "metadata": {},
   "outputs": [
    {
     "data": {
      "text/plain": [
       "5"
      ]
     },
     "execution_count": 24,
     "metadata": {},
     "output_type": "execute_result"
    }
   ],
   "source": [
    "pd.isnull(review.province).sum()"
   ]
  },
  {
   "cell_type": "code",
   "execution_count": 25,
   "metadata": {},
   "outputs": [
    {
     "data": {
      "text/plain": [
       "array(['California', 'Northern Spain', 'Oregon', 'Provence',\n",
       "       'Northeastern Italy', 'Southwest France', 'Kumeu', 'Washington',\n",
       "       'Bulgaria', 'Tuscany', 'France Other', 'Rhône Valley', 'Galicia',\n",
       "       'Andalucia', 'Idaho', 'Burgundy', 'Loire Valley', 'New York',\n",
       "       'Mendoza Province', 'Victoria', 'Alentejano', 'Piedmont',\n",
       "       'Alentejo', 'Champagne', 'Upper Galilee', 'Beira Atlantico',\n",
       "       'Veneto', 'Douro', 'Tejo', 'Stellenbosch', 'Levante',\n",
       "       'Sicily & Sardinia', 'Southern Italy', 'Languedoc-Roussillon',\n",
       "       'Bordeaux', 'Atalanti Valley', 'Catalonia', 'Santorini', 'Florina',\n",
       "       'Marchigue'], dtype=object)"
      ]
     },
     "execution_count": 25,
     "metadata": {},
     "output_type": "execute_result"
    }
   ],
   "source": [
    "prov[: 40]"
   ]
  },
  {
   "cell_type": "code",
   "execution_count": 26,
   "metadata": {},
   "outputs": [
    {
     "data": {
      "text/html": [
       "<div>\n",
       "<style scoped>\n",
       "    .dataframe tbody tr th:only-of-type {\n",
       "        vertical-align: middle;\n",
       "    }\n",
       "\n",
       "    .dataframe tbody tr th {\n",
       "        vertical-align: top;\n",
       "    }\n",
       "\n",
       "    .dataframe thead th {\n",
       "        text-align: right;\n",
       "    }\n",
       "</style>\n",
       "<table border=\"1\" class=\"dataframe\">\n",
       "  <thead>\n",
       "    <tr style=\"text-align: right;\">\n",
       "      <th></th>\n",
       "      <th>country</th>\n",
       "      <th>description</th>\n",
       "      <th>designation</th>\n",
       "      <th>points</th>\n",
       "      <th>price</th>\n",
       "      <th>province</th>\n",
       "      <th>region_1</th>\n",
       "      <th>region_2</th>\n",
       "      <th>variety</th>\n",
       "      <th>winery</th>\n",
       "    </tr>\n",
       "  </thead>\n",
       "  <tbody>\n",
       "    <tr>\n",
       "      <th>1133</th>\n",
       "      <td>NaN</td>\n",
       "      <td>Delicate white flowers and a spin of lemon pee...</td>\n",
       "      <td>Askitikos</td>\n",
       "      <td>90</td>\n",
       "      <td>17.0</td>\n",
       "      <td>NaN</td>\n",
       "      <td>NaN</td>\n",
       "      <td>NaN</td>\n",
       "      <td>Assyrtiko</td>\n",
       "      <td>Tsililis</td>\n",
       "    </tr>\n",
       "    <tr>\n",
       "      <th>1440</th>\n",
       "      <td>NaN</td>\n",
       "      <td>A blend of 60% Syrah, 30% Cabernet Sauvignon a...</td>\n",
       "      <td>Shah</td>\n",
       "      <td>90</td>\n",
       "      <td>30.0</td>\n",
       "      <td>NaN</td>\n",
       "      <td>NaN</td>\n",
       "      <td>NaN</td>\n",
       "      <td>Red Blend</td>\n",
       "      <td>Büyülübağ</td>\n",
       "    </tr>\n",
       "    <tr>\n",
       "      <th>68226</th>\n",
       "      <td>NaN</td>\n",
       "      <td>From first sniff to last, the nose never makes...</td>\n",
       "      <td>Piedra Feliz</td>\n",
       "      <td>81</td>\n",
       "      <td>15.0</td>\n",
       "      <td>NaN</td>\n",
       "      <td>NaN</td>\n",
       "      <td>NaN</td>\n",
       "      <td>Pinot Noir</td>\n",
       "      <td>Chilcas</td>\n",
       "    </tr>\n",
       "    <tr>\n",
       "      <th>113016</th>\n",
       "      <td>NaN</td>\n",
       "      <td>From first sniff to last, the nose never makes...</td>\n",
       "      <td>Piedra Feliz</td>\n",
       "      <td>81</td>\n",
       "      <td>15.0</td>\n",
       "      <td>NaN</td>\n",
       "      <td>NaN</td>\n",
       "      <td>NaN</td>\n",
       "      <td>Pinot Noir</td>\n",
       "      <td>Chilcas</td>\n",
       "    </tr>\n",
       "    <tr>\n",
       "      <th>135696</th>\n",
       "      <td>NaN</td>\n",
       "      <td>From first sniff to last, the nose never makes...</td>\n",
       "      <td>Piedra Feliz</td>\n",
       "      <td>81</td>\n",
       "      <td>15.0</td>\n",
       "      <td>NaN</td>\n",
       "      <td>NaN</td>\n",
       "      <td>NaN</td>\n",
       "      <td>Pinot Noir</td>\n",
       "      <td>Chilcas</td>\n",
       "    </tr>\n",
       "  </tbody>\n",
       "</table>\n",
       "</div>"
      ],
      "text/plain": [
       "       country                                        description  \\\n",
       "1133       NaN  Delicate white flowers and a spin of lemon pee...   \n",
       "1440       NaN  A blend of 60% Syrah, 30% Cabernet Sauvignon a...   \n",
       "68226      NaN  From first sniff to last, the nose never makes...   \n",
       "113016     NaN  From first sniff to last, the nose never makes...   \n",
       "135696     NaN  From first sniff to last, the nose never makes...   \n",
       "\n",
       "         designation  points  price province region_1 region_2     variety  \\\n",
       "1133       Askitikos      90   17.0      NaN      NaN      NaN   Assyrtiko   \n",
       "1440            Shah      90   30.0      NaN      NaN      NaN   Red Blend   \n",
       "68226   Piedra Feliz      81   15.0      NaN      NaN      NaN  Pinot Noir   \n",
       "113016  Piedra Feliz      81   15.0      NaN      NaN      NaN  Pinot Noir   \n",
       "135696  Piedra Feliz      81   15.0      NaN      NaN      NaN  Pinot Noir   \n",
       "\n",
       "           winery  \n",
       "1133     Tsililis  \n",
       "1440    Büyülübağ  \n",
       "68226     Chilcas  \n",
       "113016    Chilcas  \n",
       "135696    Chilcas  "
      ]
     },
     "execution_count": 26,
     "metadata": {},
     "output_type": "execute_result"
    }
   ],
   "source": [
    "review.loc[pd.isnull(review.province)]"
   ]
  },
  {
   "cell_type": "code",
   "execution_count": 27,
   "metadata": {},
   "outputs": [
    {
     "data": {
      "text/plain": [
       "array(['Napa Valley', 'Toro', 'Knights Valley', ..., 'Listrac',\n",
       "       'St.-Amour', 'Coteaux du Tricastin'], dtype=object)"
      ]
     },
     "execution_count": 27,
     "metadata": {},
     "output_type": "execute_result"
    }
   ],
   "source": [
    "# region_1\n",
    "region1 = review.region_1.unique()\n",
    "region1"
   ]
  },
  {
   "cell_type": "code",
   "execution_count": 28,
   "metadata": {},
   "outputs": [
    {
     "data": {
      "text/plain": [
       "1237"
      ]
     },
     "execution_count": 28,
     "metadata": {},
     "output_type": "execute_result"
    }
   ],
   "source": [
    "len(region1)"
   ]
  },
  {
   "cell_type": "code",
   "execution_count": 29,
   "metadata": {},
   "outputs": [
    {
     "data": {
      "text/plain": [
       "25060"
      ]
     },
     "execution_count": 29,
     "metadata": {},
     "output_type": "execute_result"
    }
   ],
   "source": [
    "review.region_1.isnull().sum()"
   ]
  },
  {
   "cell_type": "code",
   "execution_count": 30,
   "metadata": {},
   "outputs": [
    {
     "data": {
      "text/html": [
       "<div>\n",
       "<style scoped>\n",
       "    .dataframe tbody tr th:only-of-type {\n",
       "        vertical-align: middle;\n",
       "    }\n",
       "\n",
       "    .dataframe tbody tr th {\n",
       "        vertical-align: top;\n",
       "    }\n",
       "\n",
       "    .dataframe thead th {\n",
       "        text-align: right;\n",
       "    }\n",
       "</style>\n",
       "<table border=\"1\" class=\"dataframe\">\n",
       "  <thead>\n",
       "    <tr style=\"text-align: right;\">\n",
       "      <th></th>\n",
       "      <th>country</th>\n",
       "      <th>description</th>\n",
       "      <th>designation</th>\n",
       "      <th>points</th>\n",
       "      <th>price</th>\n",
       "      <th>province</th>\n",
       "      <th>region_1</th>\n",
       "      <th>region_2</th>\n",
       "      <th>variety</th>\n",
       "      <th>winery</th>\n",
       "    </tr>\n",
       "  </thead>\n",
       "  <tbody>\n",
       "    <tr>\n",
       "      <th>25</th>\n",
       "      <td>New Zealand</td>\n",
       "      <td>Yields were down in 2015, but intensity is up,...</td>\n",
       "      <td>Maté's Vineyard</td>\n",
       "      <td>94</td>\n",
       "      <td>57.0</td>\n",
       "      <td>Kumeu</td>\n",
       "      <td>NaN</td>\n",
       "      <td>NaN</td>\n",
       "      <td>Chardonnay</td>\n",
       "      <td>Kumeu River</td>\n",
       "    </tr>\n",
       "    <tr>\n",
       "      <th>30</th>\n",
       "      <td>Bulgaria</td>\n",
       "      <td>This Bulgarian Mavrud presents the nose with s...</td>\n",
       "      <td>Bergulé</td>\n",
       "      <td>90</td>\n",
       "      <td>15.0</td>\n",
       "      <td>Bulgaria</td>\n",
       "      <td>NaN</td>\n",
       "      <td>NaN</td>\n",
       "      <td>Mavrud</td>\n",
       "      <td>Villa Melnik</td>\n",
       "    </tr>\n",
       "    <tr>\n",
       "      <th>42</th>\n",
       "      <td>US</td>\n",
       "      <td>This is an aromatic brooder with aromas of sco...</td>\n",
       "      <td>Private Reserve</td>\n",
       "      <td>90</td>\n",
       "      <td>55.0</td>\n",
       "      <td>Idaho</td>\n",
       "      <td>NaN</td>\n",
       "      <td>NaN</td>\n",
       "      <td>Petite Sirah</td>\n",
       "      <td>Huston</td>\n",
       "    </tr>\n",
       "    <tr>\n",
       "      <th>64</th>\n",
       "      <td>Portugal</td>\n",
       "      <td>This is a super-ripe, still very young wine. I...</td>\n",
       "      <td>NaN</td>\n",
       "      <td>91</td>\n",
       "      <td>23.0</td>\n",
       "      <td>Alentejano</td>\n",
       "      <td>NaN</td>\n",
       "      <td>NaN</td>\n",
       "      <td>Portuguese Red</td>\n",
       "      <td>Herdade do Rocim</td>\n",
       "    </tr>\n",
       "    <tr>\n",
       "      <th>74</th>\n",
       "      <td>Portugal</td>\n",
       "      <td>It is the ripe dark Alicante Bouschet that dom...</td>\n",
       "      <td>Premium</td>\n",
       "      <td>91</td>\n",
       "      <td>15.0</td>\n",
       "      <td>Alentejo</td>\n",
       "      <td>NaN</td>\n",
       "      <td>NaN</td>\n",
       "      <td>Portuguese Red</td>\n",
       "      <td>Adega Cooperativa de Borba</td>\n",
       "    </tr>\n",
       "  </tbody>\n",
       "</table>\n",
       "</div>"
      ],
      "text/plain": [
       "        country                                        description  \\\n",
       "25  New Zealand  Yields were down in 2015, but intensity is up,...   \n",
       "30     Bulgaria  This Bulgarian Mavrud presents the nose with s...   \n",
       "42           US  This is an aromatic brooder with aromas of sco...   \n",
       "64     Portugal  This is a super-ripe, still very young wine. I...   \n",
       "74     Portugal  It is the ripe dark Alicante Bouschet that dom...   \n",
       "\n",
       "        designation  points  price    province region_1 region_2  \\\n",
       "25  Maté's Vineyard      94   57.0       Kumeu      NaN      NaN   \n",
       "30          Bergulé      90   15.0    Bulgaria      NaN      NaN   \n",
       "42  Private Reserve      90   55.0       Idaho      NaN      NaN   \n",
       "64              NaN      91   23.0  Alentejano      NaN      NaN   \n",
       "74          Premium      91   15.0    Alentejo      NaN      NaN   \n",
       "\n",
       "           variety                      winery  \n",
       "25      Chardonnay                 Kumeu River  \n",
       "30          Mavrud                Villa Melnik  \n",
       "42    Petite Sirah                      Huston  \n",
       "64  Portuguese Red            Herdade do Rocim  \n",
       "74  Portuguese Red  Adega Cooperativa de Borba  "
      ]
     },
     "execution_count": 30,
     "metadata": {},
     "output_type": "execute_result"
    }
   ],
   "source": [
    "review.loc[pd.isnull(review['region_1'])].head()"
   ]
  },
  {
   "cell_type": "code",
   "execution_count": 31,
   "metadata": {},
   "outputs": [
    {
     "data": {
      "text/plain": [
       "array(['Napa', nan, 'Sonoma', 'Willamette Valley', 'Central Coast',\n",
       "       'Columbia Valley', 'Finger Lakes', 'California Other',\n",
       "       'Mendocino/Lake Counties', 'South Coast', 'Central Valley',\n",
       "       'New York Other', 'Sierra Foothills', 'Southern Oregon',\n",
       "       'Oregon Other', 'Napa-Sonoma', 'North Coast', 'Washington Other',\n",
       "       'Long Island'], dtype=object)"
      ]
     },
     "execution_count": 31,
     "metadata": {},
     "output_type": "execute_result"
    }
   ],
   "source": [
    "# region_2\n",
    "region2 = review['region_2'].unique()\n",
    "region2"
   ]
  },
  {
   "cell_type": "code",
   "execution_count": 32,
   "metadata": {},
   "outputs": [
    {
     "data": {
      "text/plain": [
       "19"
      ]
     },
     "execution_count": 32,
     "metadata": {},
     "output_type": "execute_result"
    }
   ],
   "source": [
    "len(region2)"
   ]
  },
  {
   "cell_type": "code",
   "execution_count": 33,
   "metadata": {},
   "outputs": [
    {
     "data": {
      "text/plain": [
       "89977"
      ]
     },
     "execution_count": 33,
     "metadata": {},
     "output_type": "execute_result"
    }
   ],
   "source": [
    "pd.isnull(review['region_2']).sum()"
   ]
  },
  {
   "cell_type": "code",
   "execution_count": 34,
   "metadata": {},
   "outputs": [
    {
     "data": {
      "text/html": [
       "<div>\n",
       "<style scoped>\n",
       "    .dataframe tbody tr th:only-of-type {\n",
       "        vertical-align: middle;\n",
       "    }\n",
       "\n",
       "    .dataframe tbody tr th {\n",
       "        vertical-align: top;\n",
       "    }\n",
       "\n",
       "    .dataframe thead th {\n",
       "        text-align: right;\n",
       "    }\n",
       "</style>\n",
       "<table border=\"1\" class=\"dataframe\">\n",
       "  <thead>\n",
       "    <tr style=\"text-align: right;\">\n",
       "      <th></th>\n",
       "      <th>country</th>\n",
       "      <th>description</th>\n",
       "      <th>designation</th>\n",
       "      <th>points</th>\n",
       "      <th>price</th>\n",
       "      <th>province</th>\n",
       "      <th>region_1</th>\n",
       "      <th>region_2</th>\n",
       "      <th>variety</th>\n",
       "      <th>winery</th>\n",
       "    </tr>\n",
       "  </thead>\n",
       "  <tbody>\n",
       "    <tr>\n",
       "      <th>1</th>\n",
       "      <td>Spain</td>\n",
       "      <td>Ripe aromas of fig, blackberry and cassis are ...</td>\n",
       "      <td>Carodorum Selección Especial Reserva</td>\n",
       "      <td>96</td>\n",
       "      <td>110.0</td>\n",
       "      <td>Northern Spain</td>\n",
       "      <td>Toro</td>\n",
       "      <td>NaN</td>\n",
       "      <td>Tinta de Toro</td>\n",
       "      <td>Bodega Carmen Rodríguez</td>\n",
       "    </tr>\n",
       "    <tr>\n",
       "      <th>4</th>\n",
       "      <td>France</td>\n",
       "      <td>This is the top wine from La Bégude, named aft...</td>\n",
       "      <td>La Brûlade</td>\n",
       "      <td>95</td>\n",
       "      <td>66.0</td>\n",
       "      <td>Provence</td>\n",
       "      <td>Bandol</td>\n",
       "      <td>NaN</td>\n",
       "      <td>Provence red blend</td>\n",
       "      <td>Domaine de la Bégude</td>\n",
       "    </tr>\n",
       "    <tr>\n",
       "      <th>5</th>\n",
       "      <td>Spain</td>\n",
       "      <td>Deep, dense and pure from the opening bell, th...</td>\n",
       "      <td>Numanthia</td>\n",
       "      <td>95</td>\n",
       "      <td>73.0</td>\n",
       "      <td>Northern Spain</td>\n",
       "      <td>Toro</td>\n",
       "      <td>NaN</td>\n",
       "      <td>Tinta de Toro</td>\n",
       "      <td>Numanthia</td>\n",
       "    </tr>\n",
       "    <tr>\n",
       "      <th>6</th>\n",
       "      <td>Spain</td>\n",
       "      <td>Slightly gritty black-fruit aromas include a s...</td>\n",
       "      <td>San Román</td>\n",
       "      <td>95</td>\n",
       "      <td>65.0</td>\n",
       "      <td>Northern Spain</td>\n",
       "      <td>Toro</td>\n",
       "      <td>NaN</td>\n",
       "      <td>Tinta de Toro</td>\n",
       "      <td>Maurodos</td>\n",
       "    </tr>\n",
       "    <tr>\n",
       "      <th>7</th>\n",
       "      <td>Spain</td>\n",
       "      <td>Lush cedary black-fruit aromas are luxe and of...</td>\n",
       "      <td>Carodorum Único Crianza</td>\n",
       "      <td>95</td>\n",
       "      <td>110.0</td>\n",
       "      <td>Northern Spain</td>\n",
       "      <td>Toro</td>\n",
       "      <td>NaN</td>\n",
       "      <td>Tinta de Toro</td>\n",
       "      <td>Bodega Carmen Rodríguez</td>\n",
       "    </tr>\n",
       "  </tbody>\n",
       "</table>\n",
       "</div>"
      ],
      "text/plain": [
       "  country                                        description  \\\n",
       "1   Spain  Ripe aromas of fig, blackberry and cassis are ...   \n",
       "4  France  This is the top wine from La Bégude, named aft...   \n",
       "5   Spain  Deep, dense and pure from the opening bell, th...   \n",
       "6   Spain  Slightly gritty black-fruit aromas include a s...   \n",
       "7   Spain  Lush cedary black-fruit aromas are luxe and of...   \n",
       "\n",
       "                            designation  points  price        province  \\\n",
       "1  Carodorum Selección Especial Reserva      96  110.0  Northern Spain   \n",
       "4                            La Brûlade      95   66.0        Provence   \n",
       "5                             Numanthia      95   73.0  Northern Spain   \n",
       "6                             San Román      95   65.0  Northern Spain   \n",
       "7               Carodorum Único Crianza      95  110.0  Northern Spain   \n",
       "\n",
       "  region_1 region_2             variety                   winery  \n",
       "1     Toro      NaN       Tinta de Toro  Bodega Carmen Rodríguez  \n",
       "4   Bandol      NaN  Provence red blend     Domaine de la Bégude  \n",
       "5     Toro      NaN       Tinta de Toro                Numanthia  \n",
       "6     Toro      NaN       Tinta de Toro                 Maurodos  \n",
       "7     Toro      NaN       Tinta de Toro  Bodega Carmen Rodríguez  "
      ]
     },
     "execution_count": 34,
     "metadata": {},
     "output_type": "execute_result"
    }
   ],
   "source": [
    "review.loc[review['region_2'].isnull()].head()"
   ]
  },
  {
   "cell_type": "code",
   "execution_count": 35,
   "metadata": {},
   "outputs": [
    {
     "data": {
      "text/plain": [
       "632"
      ]
     },
     "execution_count": 35,
     "metadata": {},
     "output_type": "execute_result"
    }
   ],
   "source": [
    "# Variety \n",
    "variety = review['variety'].unique()\n",
    "len(variety)"
   ]
  },
  {
   "cell_type": "code",
   "execution_count": 36,
   "metadata": {},
   "outputs": [
    {
     "data": {
      "text/plain": [
       "array(['Cabernet Sauvignon', 'Tinta de Toro', 'Sauvignon Blanc',\n",
       "       'Pinot Noir', 'Provence red blend', 'Friulano', 'Tannat',\n",
       "       'Chardonnay', 'Tempranillo', 'Malbec', 'Rosé', 'Tempranillo Blend',\n",
       "       'Syrah', 'Mavrud', 'Sangiovese', 'Sparkling Blend',\n",
       "       'Rhône-style White Blend', 'Red Blend', 'Mencía', 'Palomino'],\n",
       "      dtype=object)"
      ]
     },
     "execution_count": 36,
     "metadata": {},
     "output_type": "execute_result"
    }
   ],
   "source": [
    "variety[: 20]"
   ]
  },
  {
   "cell_type": "code",
   "execution_count": 37,
   "metadata": {},
   "outputs": [
    {
     "data": {
      "text/plain": [
       "14810"
      ]
     },
     "execution_count": 37,
     "metadata": {},
     "output_type": "execute_result"
    }
   ],
   "source": [
    "# Winery\n",
    "winery = review['winery'].unique()\n",
    "len(winery)"
   ]
  },
  {
   "cell_type": "code",
   "execution_count": 38,
   "metadata": {},
   "outputs": [
    {
     "data": {
      "text/plain": [
       "array(['Heitz', 'Bodega Carmen Rodríguez', 'Macauley', 'Ponzi',\n",
       "       'Domaine de la Bégude', 'Numanthia', 'Maurodos', 'Bergström',\n",
       "       'Blue Farm', 'Borgo del Tiglio', 'Patricia Green Cellars',\n",
       "       'Vignobles Brumont', 'Domaine Serene', 'Hall', 'Valduero',\n",
       "       'Château Lagrézette', 'Gary Farrell', 'Muga', 'Center of Effort',\n",
       "       'Comartin'], dtype=object)"
      ]
     },
     "execution_count": 38,
     "metadata": {},
     "output_type": "execute_result"
    }
   ],
   "source": [
    "winery[: 20]"
   ]
  }
 ],
 "metadata": {
  "kernelspec": {
   "display_name": "Python 3",
   "language": "python",
   "name": "python3"
  },
  "language_info": {
   "codemirror_mode": {
    "name": "ipython",
    "version": 3
   },
   "file_extension": ".py",
   "mimetype": "text/x-python",
   "name": "python",
   "nbconvert_exporter": "python",
   "pygments_lexer": "ipython3",
   "version": "3.6.7"
  }
 },
 "nbformat": 4,
 "nbformat_minor": 2
}
