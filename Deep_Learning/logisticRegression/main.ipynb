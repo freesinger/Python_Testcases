{
 "cells": [
  {
   "cell_type": "code",
   "execution_count": 1,
   "metadata": {},
   "outputs": [
    {
     "data": {
      "text/plain": [
       "'1.0.1.post2'"
      ]
     },
     "execution_count": 1,
     "metadata": {},
     "output_type": "execute_result"
    }
   ],
   "source": [
    "import torch\n",
    "import torch.nn as nn\n",
    "import numpy as np\n",
    "torch.__version__"
   ]
  },
  {
   "cell_type": "code",
   "execution_count": 2,
   "metadata": {},
   "outputs": [],
   "source": [
    "# Download data (numeric)\n",
    "# !curl -O https://archive.ics.uci.edu/ml/machine-learning-databases/statlog/german/german.data-numeric\n",
    "data = np.loadtxt(\"german.data-numeric\")"
   ]
  },
  {
   "cell_type": "code",
   "execution_count": 3,
   "metadata": {},
   "outputs": [
    {
     "data": {
      "text/plain": [
       "(1000, 25)"
      ]
     },
     "execution_count": 3,
     "metadata": {},
     "output_type": "execute_result"
    }
   ],
   "source": [
    "data.shape"
   ]
  },
  {
   "cell_type": "code",
   "execution_count": 4,
   "metadata": {},
   "outputs": [],
   "source": [
    "num, dim = data.shape\n",
    "# Standardize\n",
    "for i in range(dim - 1):\n",
    "    meanVal = np.mean(data[:, i])\n",
    "    stsVal = np.std(data[:, i])\n",
    "    data[:, i] = (data[:, i] - meanVal) / stsVal\n",
    "    \n",
    "# Shuffle data\n",
    "np.random.shuffle(data)\n",
    "\n",
    "# Split data\n",
    "train_data = data[: int(num*0.9), : dim-1]\n",
    "train_res = data[: int(num*0.9), dim-1] - 1\n",
    "test_data = data[int(num*0.1): , : dim-1]\n",
    "test_res = data[int(num*0.1): , dim-1] - 1"
   ]
  },
  {
   "cell_type": "code",
   "execution_count": 5,
   "metadata": {},
   "outputs": [],
   "source": [
    "# Define the model\n",
    "class LR(nn.Module):\n",
    "    def __init__(self):\n",
    "        super(LR, self).__init__()\n",
    "        self.fc = nn.Linear(dim-1, 2) # dim-1\n",
    "    def forward(self, x):\n",
    "        out = self.fc(x)\n",
    "        out = torch.sigmoid(out)\n",
    "        return out\n",
    "    \n",
    "# ACC in test\n",
    "def test(pred, res):\n",
    "    t = pred.max(-1)[1] == res\n",
    "    return torch.mean(t.float())"
   ]
  },
  {
   "cell_type": "code",
   "execution_count": 6,
   "metadata": {},
   "outputs": [],
   "source": [
    "net = LR()\n",
    "criterion = nn.CrossEntropyLoss()\n",
    "optm = torch.optim.Adam(net.parameters())\n",
    "epochs = 2000"
   ]
  },
  {
   "cell_type": "code",
   "execution_count": 7,
   "metadata": {
    "scrolled": true
   },
   "outputs": [
    {
     "name": "stdout",
     "output_type": "stream",
     "text": [
      "Epoch:100, Loss:0.6466, Accuracy:0.70\n",
      "Epoch:200, Loss:0.6165, Accuracy:0.74\n",
      "Epoch:300, Loss:0.5988, Accuracy:0.75\n",
      "Epoch:400, Loss:0.5869, Accuracy:0.75\n",
      "Epoch:500, Loss:0.5781, Accuracy:0.76\n",
      "Epoch:600, Loss:0.5712, Accuracy:0.76\n",
      "Epoch:700, Loss:0.5655, Accuracy:0.77\n",
      "Epoch:800, Loss:0.5608, Accuracy:0.77\n",
      "Epoch:900, Loss:0.5567, Accuracy:0.77\n",
      "Epoch:1000, Loss:0.5532, Accuracy:0.77\n",
      "Epoch:1100, Loss:0.5501, Accuracy:0.77\n",
      "Epoch:1200, Loss:0.5474, Accuracy:0.77\n",
      "Epoch:1300, Loss:0.5450, Accuracy:0.77\n",
      "Epoch:1400, Loss:0.5428, Accuracy:0.77\n",
      "Epoch:1500, Loss:0.5409, Accuracy:0.77\n",
      "Epoch:1600, Loss:0.5391, Accuracy:0.78\n",
      "Epoch:1700, Loss:0.5374, Accuracy:0.78\n",
      "Epoch:1800, Loss:0.5359, Accuracy:0.78\n",
      "Epoch:1900, Loss:0.5345, Accuracy:0.78\n",
      "Epoch:2000, Loss:0.5332, Accuracy:0.78\n"
     ]
    }
   ],
   "source": [
    "for i in range(epochs):\n",
    "    # train mode\n",
    "    net.train()\n",
    "    # convert data to tensor\n",
    "    x = torch.from_numpy(train_data).float()\n",
    "    y = torch.from_numpy(train_res).long()\n",
    "    # current output\n",
    "    y_cuo = net(x)\n",
    "    # compute loss\n",
    "    loss = criterion(y_cuo, y)\n",
    "    # clear gradient\n",
    "    optm.zero_grad()\n",
    "    # backforward\n",
    "    loss.backward()\n",
    "    # optimizaion\n",
    "    optm.step()\n",
    "    if (i+1) % 100 == 0:\n",
    "        # evaluation mode\n",
    "        net.eval()\n",
    "        # data->tensor\n",
    "        test_in = torch.from_numpy(test_data).float()\n",
    "        test_tru = torch.from_numpy(test_res).long()\n",
    "        # current output\n",
    "        test_out = net(test_in)\n",
    "        # compute acc\n",
    "        acc = test(test_out, test_tru)\n",
    "        print(\"Epoch:{}, Loss:{:.4f}, Accuracy:{:.2f}\".format(i+1, loss.item(), acc))"
   ]
  }
 ],
 "metadata": {
  "kernelspec": {
   "display_name": "Python 3",
   "language": "python",
   "name": "python3"
  },
  "language_info": {
   "codemirror_mode": {
    "name": "ipython",
    "version": 3
   },
   "file_extension": ".py",
   "mimetype": "text/x-python",
   "name": "python",
   "nbconvert_exporter": "python",
   "pygments_lexer": "ipython3",
   "version": "3.6.7"
  }
 },
 "nbformat": 4,
 "nbformat_minor": 2
}
