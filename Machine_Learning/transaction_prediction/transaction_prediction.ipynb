{
 "cells": [
  {
   "cell_type": "code",
   "execution_count": 1,
   "metadata": {},
   "outputs": [],
   "source": [
    "import numpy as np\n",
    "import matplotlib.pyplot as plt\n",
    "import seaborn as sns\n",
    "import pandas as pd\n",
    "from sklearn.preprocessing import normalize\n",
    "\n",
    "sns.set_style('darkgrid')"
   ]
  },
  {
   "cell_type": "code",
   "execution_count": 2,
   "metadata": {
    "scrolled": false
   },
   "outputs": [
    {
     "data": {
      "text/html": [
       "<div>\n",
       "<style scoped>\n",
       "    .dataframe tbody tr th:only-of-type {\n",
       "        vertical-align: middle;\n",
       "    }\n",
       "\n",
       "    .dataframe tbody tr th {\n",
       "        vertical-align: top;\n",
       "    }\n",
       "\n",
       "    .dataframe thead th {\n",
       "        text-align: right;\n",
       "    }\n",
       "</style>\n",
       "<table border=\"1\" class=\"dataframe\">\n",
       "  <thead>\n",
       "    <tr style=\"text-align: right;\">\n",
       "      <th></th>\n",
       "      <th>ZWPZFL_DWBH（单位编号）</th>\n",
       "      <th>（凭证内码）ZWPZFL_PZNM</th>\n",
       "      <th>（分录内码）ZWPZFL_FLNM</th>\n",
       "      <th>（分录编号）ZWPZFL_FLBH</th>\n",
       "      <th>（科目编号）ZWPZFL_KMBH</th>\n",
       "      <th>（摘要）ZWPZFL_ZY</th>\n",
       "      <th>（金额）ZWPZFL_JE</th>\n",
       "      <th>（记账方向）ZWPZFL_JZFX</th>\n",
       "      <th>（对方科目）ZWPZFL_DFKM</th>\n",
       "      <th>ZWPZFL_DFKMYJ</th>\n",
       "    </tr>\n",
       "  </thead>\n",
       "  <tbody>\n",
       "    <tr>\n",
       "      <th>0</th>\n",
       "      <td>A63118930507000000</td>\n",
       "      <td>17</td>\n",
       "      <td>38</td>\n",
       "      <td>1</td>\n",
       "      <td>1002003001</td>\n",
       "      <td>收到天津东丽项目工程款</td>\n",
       "      <td>1753013.0</td>\n",
       "      <td>1</td>\n",
       "      <td>1.004001e+06</td>\n",
       "      <td>1004.0</td>\n",
       "    </tr>\n",
       "    <tr>\n",
       "      <th>1</th>\n",
       "      <td>A63118930507000000</td>\n",
       "      <td>17</td>\n",
       "      <td>39</td>\n",
       "      <td>2</td>\n",
       "      <td>1004001</td>\n",
       "      <td>收到天津东丽项目工程款</td>\n",
       "      <td>1753013.0</td>\n",
       "      <td>2</td>\n",
       "      <td>1.002003e+09</td>\n",
       "      <td>1002.0</td>\n",
       "    </tr>\n",
       "    <tr>\n",
       "      <th>2</th>\n",
       "      <td>A63118930507000000</td>\n",
       "      <td>16</td>\n",
       "      <td>40</td>\n",
       "      <td>1</td>\n",
       "      <td>1002003001</td>\n",
       "      <td>收到高雅机电有限公司履约保证金</td>\n",
       "      <td>5000.0</td>\n",
       "      <td>1</td>\n",
       "      <td>1.004001e+06</td>\n",
       "      <td>1004.0</td>\n",
       "    </tr>\n",
       "    <tr>\n",
       "      <th>3</th>\n",
       "      <td>A63118930507000000</td>\n",
       "      <td>16</td>\n",
       "      <td>41</td>\n",
       "      <td>2</td>\n",
       "      <td>1004001</td>\n",
       "      <td>收到高雅机电有限公司履约保证金</td>\n",
       "      <td>5000.0</td>\n",
       "      <td>2</td>\n",
       "      <td>1.002003e+09</td>\n",
       "      <td>1002.0</td>\n",
       "    </tr>\n",
       "    <tr>\n",
       "      <th>4</th>\n",
       "      <td>A63118930507000000</td>\n",
       "      <td>14</td>\n",
       "      <td>48</td>\n",
       "      <td>1</td>\n",
       "      <td>1002003001</td>\n",
       "      <td>收到大宁中心项目工程款</td>\n",
       "      <td>9632017.0</td>\n",
       "      <td>1</td>\n",
       "      <td>1.004001e+06</td>\n",
       "      <td>1004.0</td>\n",
       "    </tr>\n",
       "  </tbody>\n",
       "</table>\n",
       "</div>"
      ],
      "text/plain": [
       "    ZWPZFL_DWBH（单位编号）  （凭证内码）ZWPZFL_PZNM  （分录内码）ZWPZFL_FLNM  \\\n",
       "0  A63118930507000000                 17                 38   \n",
       "1  A63118930507000000                 17                 39   \n",
       "2  A63118930507000000                 16                 40   \n",
       "3  A63118930507000000                 16                 41   \n",
       "4  A63118930507000000                 14                 48   \n",
       "\n",
       "   （分录编号）ZWPZFL_FLBH  （科目编号）ZWPZFL_KMBH    （摘要）ZWPZFL_ZY  （金额）ZWPZFL_JE  \\\n",
       "0                  1         1002003001      收到天津东丽项目工程款      1753013.0   \n",
       "1                  2            1004001      收到天津东丽项目工程款      1753013.0   \n",
       "2                  1         1002003001  收到高雅机电有限公司履约保证金         5000.0   \n",
       "3                  2            1004001  收到高雅机电有限公司履约保证金         5000.0   \n",
       "4                  1         1002003001      收到大宁中心项目工程款      9632017.0   \n",
       "\n",
       "   （记账方向）ZWPZFL_JZFX  （对方科目）ZWPZFL_DFKM  ZWPZFL_DFKMYJ  \n",
       "0                  1       1.004001e+06         1004.0  \n",
       "1                  2       1.002003e+09         1002.0  \n",
       "2                  1       1.004001e+06         1004.0  \n",
       "3                  2       1.002003e+09         1002.0  \n",
       "4                  1       1.004001e+06         1004.0  "
      ]
     },
     "execution_count": 2,
     "metadata": {},
     "output_type": "execute_result"
    }
   ],
   "source": [
    "raw_data = pd.read_excel('/Users/shanewang/Desktop/lyf/分录数据.xls',\n",
    "                    index_col=None, sheet_name='Sheet2')\n",
    "data = raw_data.copy(deep=True)\n",
    "data.head()"
   ]
  },
  {
   "cell_type": "code",
   "execution_count": 3,
   "metadata": {},
   "outputs": [
    {
     "name": "stdout",
     "output_type": "stream",
     "text": [
      "<class 'pandas.core.frame.DataFrame'>\n",
      "RangeIndex: 62054 entries, 0 to 62053\n",
      "Data columns (total 10 columns):\n",
      "ZWPZFL_DWBH（单位编号）    62054 non-null object\n",
      "（凭证内码）ZWPZFL_PZNM    62054 non-null int64\n",
      "（分录内码）ZWPZFL_FLNM    62054 non-null int64\n",
      "（分录编号）ZWPZFL_FLBH    62054 non-null int64\n",
      "（科目编号）ZWPZFL_KMBH    62054 non-null int64\n",
      "（摘要）ZWPZFL_ZY        62054 non-null object\n",
      "（金额）ZWPZFL_JE        62054 non-null float64\n",
      "（记账方向）ZWPZFL_JZFX    62054 non-null int64\n",
      "（对方科目）ZWPZFL_DFKM    47680 non-null float64\n",
      "ZWPZFL_DFKMYJ        47680 non-null float64\n",
      "dtypes: float64(3), int64(5), object(2)\n",
      "memory usage: 4.7+ MB\n"
     ]
    }
   ],
   "source": [
    "data.info()"
   ]
  },
  {
   "cell_type": "code",
   "execution_count": 4,
   "metadata": {
    "scrolled": true
   },
   "outputs": [
    {
     "data": {
      "text/html": [
       "<div>\n",
       "<style scoped>\n",
       "    .dataframe tbody tr th:only-of-type {\n",
       "        vertical-align: middle;\n",
       "    }\n",
       "\n",
       "    .dataframe tbody tr th {\n",
       "        vertical-align: top;\n",
       "    }\n",
       "\n",
       "    .dataframe thead th {\n",
       "        text-align: right;\n",
       "    }\n",
       "</style>\n",
       "<table border=\"1\" class=\"dataframe\">\n",
       "  <thead>\n",
       "    <tr style=\"text-align: right;\">\n",
       "      <th></th>\n",
       "      <th>（凭证内码）ZWPZFL_PZNM</th>\n",
       "      <th>（分录内码）ZWPZFL_FLNM</th>\n",
       "      <th>（分录编号）ZWPZFL_FLBH</th>\n",
       "      <th>（科目编号）ZWPZFL_KMBH</th>\n",
       "      <th>（金额）ZWPZFL_JE</th>\n",
       "      <th>（记账方向）ZWPZFL_JZFX</th>\n",
       "      <th>（对方科目）ZWPZFL_DFKM</th>\n",
       "      <th>ZWPZFL_DFKMYJ</th>\n",
       "    </tr>\n",
       "  </thead>\n",
       "  <tbody>\n",
       "    <tr>\n",
       "      <th>count</th>\n",
       "      <td>62054.000000</td>\n",
       "      <td>62054.000000</td>\n",
       "      <td>62054.000000</td>\n",
       "      <td>6.205400e+04</td>\n",
       "      <td>6.205400e+04</td>\n",
       "      <td>62054.000000</td>\n",
       "      <td>4.768000e+04</td>\n",
       "      <td>47680.000000</td>\n",
       "    </tr>\n",
       "    <tr>\n",
       "      <th>mean</th>\n",
       "      <td>354.471154</td>\n",
       "      <td>1392.325136</td>\n",
       "      <td>3.059158</td>\n",
       "      <td>7.073192e+10</td>\n",
       "      <td>3.367725e+06</td>\n",
       "      <td>1.453347</td>\n",
       "      <td>3.862458e+10</td>\n",
       "      <td>2582.697357</td>\n",
       "    </tr>\n",
       "    <tr>\n",
       "      <th>std</th>\n",
       "      <td>492.759923</td>\n",
       "      <td>1899.180007</td>\n",
       "      <td>5.958275</td>\n",
       "      <td>2.212125e+12</td>\n",
       "      <td>4.290739e+07</td>\n",
       "      <td>0.497823</td>\n",
       "      <td>3.625660e+11</td>\n",
       "      <td>2036.073022</td>\n",
       "    </tr>\n",
       "    <tr>\n",
       "      <th>min</th>\n",
       "      <td>1.000000</td>\n",
       "      <td>1.000000</td>\n",
       "      <td>1.000000</td>\n",
       "      <td>1.171000e+03</td>\n",
       "      <td>-3.620428e+08</td>\n",
       "      <td>1.000000</td>\n",
       "      <td>1.171000e+03</td>\n",
       "      <td>1001.000000</td>\n",
       "    </tr>\n",
       "    <tr>\n",
       "      <th>25%</th>\n",
       "      <td>58.000000</td>\n",
       "      <td>261.000000</td>\n",
       "      <td>1.000000</td>\n",
       "      <td>1.004001e+06</td>\n",
       "      <td>3.300750e+03</td>\n",
       "      <td>1.000000</td>\n",
       "      <td>1.004001e+06</td>\n",
       "      <td>1004.000000</td>\n",
       "    </tr>\n",
       "    <tr>\n",
       "      <th>50%</th>\n",
       "      <td>155.000000</td>\n",
       "      <td>670.000000</td>\n",
       "      <td>2.000000</td>\n",
       "      <td>5.401014e+06</td>\n",
       "      <td>4.595126e+04</td>\n",
       "      <td>1.000000</td>\n",
       "      <td>4.104014e+06</td>\n",
       "      <td>1221.000000</td>\n",
       "    </tr>\n",
       "    <tr>\n",
       "      <th>75%</th>\n",
       "      <td>390.750000</td>\n",
       "      <td>1578.000000</td>\n",
       "      <td>3.000000</td>\n",
       "      <td>2.221007e+09</td>\n",
       "      <td>7.354059e+05</td>\n",
       "      <td>2.000000</td>\n",
       "      <td>1.122001e+09</td>\n",
       "      <td>5102.000000</td>\n",
       "    </tr>\n",
       "    <tr>\n",
       "      <th>max</th>\n",
       "      <td>2614.000000</td>\n",
       "      <td>10059.000000</td>\n",
       "      <td>99.000000</td>\n",
       "      <td>2.204002e+14</td>\n",
       "      <td>6.259928e+09</td>\n",
       "      <td>2.000000</td>\n",
       "      <td>6.602016e+12</td>\n",
       "      <td>6801.000000</td>\n",
       "    </tr>\n",
       "  </tbody>\n",
       "</table>\n",
       "</div>"
      ],
      "text/plain": [
       "       （凭证内码）ZWPZFL_PZNM  （分录内码）ZWPZFL_FLNM  （分录编号）ZWPZFL_FLBH  \\\n",
       "count       62054.000000       62054.000000       62054.000000   \n",
       "mean          354.471154        1392.325136           3.059158   \n",
       "std           492.759923        1899.180007           5.958275   \n",
       "min             1.000000           1.000000           1.000000   \n",
       "25%            58.000000         261.000000           1.000000   \n",
       "50%           155.000000         670.000000           2.000000   \n",
       "75%           390.750000        1578.000000           3.000000   \n",
       "max          2614.000000       10059.000000          99.000000   \n",
       "\n",
       "       （科目编号）ZWPZFL_KMBH  （金额）ZWPZFL_JE  （记账方向）ZWPZFL_JZFX  （对方科目）ZWPZFL_DFKM  \\\n",
       "count       6.205400e+04   6.205400e+04       62054.000000       4.768000e+04   \n",
       "mean        7.073192e+10   3.367725e+06           1.453347       3.862458e+10   \n",
       "std         2.212125e+12   4.290739e+07           0.497823       3.625660e+11   \n",
       "min         1.171000e+03  -3.620428e+08           1.000000       1.171000e+03   \n",
       "25%         1.004001e+06   3.300750e+03           1.000000       1.004001e+06   \n",
       "50%         5.401014e+06   4.595126e+04           1.000000       4.104014e+06   \n",
       "75%         2.221007e+09   7.354059e+05           2.000000       1.122001e+09   \n",
       "max         2.204002e+14   6.259928e+09           2.000000       6.602016e+12   \n",
       "\n",
       "       ZWPZFL_DFKMYJ  \n",
       "count   47680.000000  \n",
       "mean     2582.697357  \n",
       "std      2036.073022  \n",
       "min      1001.000000  \n",
       "25%      1004.000000  \n",
       "50%      1221.000000  \n",
       "75%      5102.000000  \n",
       "max      6801.000000  "
      ]
     },
     "execution_count": 4,
     "metadata": {},
     "output_type": "execute_result"
    }
   ],
   "source": [
    "data.describe()"
   ]
  },
  {
   "cell_type": "code",
   "execution_count": 5,
   "metadata": {},
   "outputs": [
    {
     "data": {
      "text/html": [
       "<div>\n",
       "<style scoped>\n",
       "    .dataframe tbody tr th:only-of-type {\n",
       "        vertical-align: middle;\n",
       "    }\n",
       "\n",
       "    .dataframe tbody tr th {\n",
       "        vertical-align: top;\n",
       "    }\n",
       "\n",
       "    .dataframe thead th {\n",
       "        text-align: right;\n",
       "    }\n",
       "</style>\n",
       "<table border=\"1\" class=\"dataframe\">\n",
       "  <thead>\n",
       "    <tr style=\"text-align: right;\">\n",
       "      <th></th>\n",
       "      <th>（凭证内码）ZWPZFL_PZNM</th>\n",
       "      <th>（分录内码）ZWPZFL_FLNM</th>\n",
       "      <th>（分录编号）ZWPZFL_FLBH</th>\n",
       "      <th>（科目编号）ZWPZFL_KMBH</th>\n",
       "      <th>（金额）ZWPZFL_JE</th>\n",
       "      <th>（记账方向）ZWPZFL_JZFX</th>\n",
       "      <th>（对方科目）ZWPZFL_DFKM</th>\n",
       "      <th>ZWPZFL_DFKMYJ</th>\n",
       "    </tr>\n",
       "  </thead>\n",
       "  <tbody>\n",
       "    <tr>\n",
       "      <th>count</th>\n",
       "      <td>28132.000000</td>\n",
       "      <td>28132.000000</td>\n",
       "      <td>28132.000000</td>\n",
       "      <td>2.813200e+04</td>\n",
       "      <td>2.813200e+04</td>\n",
       "      <td>28132.0</td>\n",
       "      <td>2.251800e+04</td>\n",
       "      <td>22518.000000</td>\n",
       "    </tr>\n",
       "    <tr>\n",
       "      <th>mean</th>\n",
       "      <td>365.745557</td>\n",
       "      <td>1407.033378</td>\n",
       "      <td>4.172188</td>\n",
       "      <td>1.538404e+10</td>\n",
       "      <td>3.714290e+06</td>\n",
       "      <td>2.0</td>\n",
       "      <td>6.998833e+10</td>\n",
       "      <td>3141.760236</td>\n",
       "    </tr>\n",
       "    <tr>\n",
       "      <th>std</th>\n",
       "      <td>502.712897</td>\n",
       "      <td>1885.597682</td>\n",
       "      <td>7.986952</td>\n",
       "      <td>2.725011e+11</td>\n",
       "      <td>4.485562e+07</td>\n",
       "      <td>0.0</td>\n",
       "      <td>4.821295e+11</td>\n",
       "      <td>2143.016594</td>\n",
       "    </tr>\n",
       "    <tr>\n",
       "      <th>min</th>\n",
       "      <td>1.000000</td>\n",
       "      <td>2.000000</td>\n",
       "      <td>1.000000</td>\n",
       "      <td>1.171000e+03</td>\n",
       "      <td>-3.414097e+08</td>\n",
       "      <td>2.0</td>\n",
       "      <td>1.171000e+03</td>\n",
       "      <td>1001.000000</td>\n",
       "    </tr>\n",
       "    <tr>\n",
       "      <th>25%</th>\n",
       "      <td>59.000000</td>\n",
       "      <td>265.000000</td>\n",
       "      <td>2.000000</td>\n",
       "      <td>1.004001e+06</td>\n",
       "      <td>5.836470e+03</td>\n",
       "      <td>2.0</td>\n",
       "      <td>1.004001e+06</td>\n",
       "      <td>1004.000000</td>\n",
       "    </tr>\n",
       "    <tr>\n",
       "      <th>50%</th>\n",
       "      <td>160.000000</td>\n",
       "      <td>682.000000</td>\n",
       "      <td>2.000000</td>\n",
       "      <td>4.103015e+06</td>\n",
       "      <td>7.597700e+04</td>\n",
       "      <td>2.0</td>\n",
       "      <td>5.401009e+06</td>\n",
       "      <td>2204.000000</td>\n",
       "    </tr>\n",
       "    <tr>\n",
       "      <th>75%</th>\n",
       "      <td>411.000000</td>\n",
       "      <td>1604.000000</td>\n",
       "      <td>3.000000</td>\n",
       "      <td>1.002007e+09</td>\n",
       "      <td>1.000000e+06</td>\n",
       "      <td>2.0</td>\n",
       "      <td>2.211001e+09</td>\n",
       "      <td>5102.000000</td>\n",
       "    </tr>\n",
       "    <tr>\n",
       "      <th>max</th>\n",
       "      <td>2614.000000</td>\n",
       "      <td>10059.000000</td>\n",
       "      <td>99.000000</td>\n",
       "      <td>6.001001e+12</td>\n",
       "      <td>6.259928e+09</td>\n",
       "      <td>2.0</td>\n",
       "      <td>6.602016e+12</td>\n",
       "      <td>6801.000000</td>\n",
       "    </tr>\n",
       "  </tbody>\n",
       "</table>\n",
       "</div>"
      ],
      "text/plain": [
       "       （凭证内码）ZWPZFL_PZNM  （分录内码）ZWPZFL_FLNM  （分录编号）ZWPZFL_FLBH  \\\n",
       "count       28132.000000       28132.000000       28132.000000   \n",
       "mean          365.745557        1407.033378           4.172188   \n",
       "std           502.712897        1885.597682           7.986952   \n",
       "min             1.000000           2.000000           1.000000   \n",
       "25%            59.000000         265.000000           2.000000   \n",
       "50%           160.000000         682.000000           2.000000   \n",
       "75%           411.000000        1604.000000           3.000000   \n",
       "max          2614.000000       10059.000000          99.000000   \n",
       "\n",
       "       （科目编号）ZWPZFL_KMBH  （金额）ZWPZFL_JE  （记账方向）ZWPZFL_JZFX  （对方科目）ZWPZFL_DFKM  \\\n",
       "count       2.813200e+04   2.813200e+04            28132.0       2.251800e+04   \n",
       "mean        1.538404e+10   3.714290e+06                2.0       6.998833e+10   \n",
       "std         2.725011e+11   4.485562e+07                0.0       4.821295e+11   \n",
       "min         1.171000e+03  -3.414097e+08                2.0       1.171000e+03   \n",
       "25%         1.004001e+06   5.836470e+03                2.0       1.004001e+06   \n",
       "50%         4.103015e+06   7.597700e+04                2.0       5.401009e+06   \n",
       "75%         1.002007e+09   1.000000e+06                2.0       2.211001e+09   \n",
       "max         6.001001e+12   6.259928e+09                2.0       6.602016e+12   \n",
       "\n",
       "       ZWPZFL_DFKMYJ  \n",
       "count   22518.000000  \n",
       "mean     3141.760236  \n",
       "std      2143.016594  \n",
       "min      1001.000000  \n",
       "25%      1004.000000  \n",
       "50%      2204.000000  \n",
       "75%      5102.000000  \n",
       "max      6801.000000  "
      ]
     },
     "execution_count": 5,
     "metadata": {},
     "output_type": "execute_result"
    }
   ],
   "source": [
    "data = data.loc[data['（记账方向）ZWPZFL_JZFX']==2]\n",
    "data.describe()"
   ]
  },
  {
   "cell_type": "code",
   "execution_count": 6,
   "metadata": {
    "scrolled": false
   },
   "outputs": [
    {
     "name": "stdout",
     "output_type": "stream",
     "text": [
      "14964\n"
     ]
    }
   ],
   "source": [
    "prices = data['（金额）ZWPZFL_JE']\n",
    "# prices = prices.apply(lambda x: x/prices.max())\n",
    "print(len(prices.unique()))\n",
    "# prices.value_counts()"
   ]
  },
  {
   "cell_type": "code",
   "execution_count": 7,
   "metadata": {},
   "outputs": [
    {
     "name": "stdout",
     "output_type": "stream",
     "text": [
      "1140\n"
     ]
    },
    {
     "data": {
      "text/plain": [
       "(array([2.000e+00, 0.000e+00, 0.000e+00, 1.000e+00, 0.000e+00, 3.000e+00,\n",
       "        5.000e+00, 5.000e+00, 1.600e+01, 1.108e+03]),\n",
       " array([-3.41409678e+08, -3.07268710e+08, -2.73127742e+08, -2.38986775e+08,\n",
       "        -2.04845807e+08, -1.70704839e+08, -1.36563871e+08, -1.02422903e+08,\n",
       "        -6.82819356e+07, -3.41409678e+07, -1.00000000e-02]),\n",
       " <a list of 10 Patch objects>)"
      ]
     },
     "execution_count": 7,
     "metadata": {},
     "output_type": "execute_result"
    },
    {
     "data": {
      "image/png": "[encoded data removed]",
      "text/plain": [
       "<Figure size 432x288 with 1 Axes>"
      ]
     },
     "metadata": {
      "needs_background": "light"
     },
     "output_type": "display_data"
    }
   ],
   "source": [
    "t = data.loc[(prices<0), '（金额）ZWPZFL_JE']\n",
    "print(len(t.index))\n",
    "plt.hist(t)"
   ]
  },
  {
   "cell_type": "code",
   "execution_count": 8,
   "metadata": {
    "scrolled": false
   },
   "outputs": [
    {
     "name": "stdout",
     "output_type": "stream",
     "text": [
      "7209\n"
     ]
    },
    {
     "data": {
      "text/plain": [
       "(array([2402., 1001.,  861.,  645.,  542.,  497.,  386.,  336.,  279.,\n",
       "         260.]), array([1.000000e-02, 9.999090e+02, 1.999808e+03, 2.999707e+03,\n",
       "        3.999606e+03, 4.999505e+03, 5.999404e+03, 6.999303e+03,\n",
       "        7.999202e+03, 8.999101e+03, 9.999000e+03]), <a list of 10 Patch objects>)"
      ]
     },
     "execution_count": 8,
     "metadata": {},
     "output_type": "execute_result"
    },
    {
     "data": {
      "image/png": "[encoded data removed]",
      "text/plain": [
       "<Figure size 432x288 with 1 Axes>"
      ]
     },
     "metadata": {
      "needs_background": "light"
     },
     "output_type": "display_data"
    }
   ],
   "source": [
    "t = data.loc[(prices>0) & (prices<10000), '（金额）ZWPZFL_JE']\n",
    "print(len(t.index))\n",
    "plt.hist(t)"
   ]
  },
  {
   "cell_type": "code",
   "execution_count": 9,
   "metadata": {},
   "outputs": [
    {
     "name": "stdout",
     "output_type": "stream",
     "text": [
      "6343\n"
     ]
    },
    {
     "data": {
      "text/plain": [
       "(array([1939., 1103.,  775.,  566.,  599.,  325.,  316.,  276.,  219.,\n",
       "         225.]),\n",
       " array([10000.  , 18999.99, 27999.98, 36999.97, 45999.96, 54999.95,\n",
       "        63999.94, 72999.93, 81999.92, 90999.91, 99999.9 ]),\n",
       " <a list of 10 Patch objects>)"
      ]
     },
     "execution_count": 9,
     "metadata": {},
     "output_type": "execute_result"
    },
    {
     "data": {
      "image/png": "[encoded data removed]",
      "text/plain": [
       "<Figure size 432x288 with 1 Axes>"
      ]
     },
     "metadata": {
      "needs_background": "light"
     },
     "output_type": "display_data"
    }
   ],
   "source": [
    "t = data.loc[(prices>=1e4) & (prices<1e5), '（金额）ZWPZFL_JE']\n",
    "print(len(t.index))\n",
    "plt.hist(t)"
   ]
  },
  {
   "cell_type": "code",
   "execution_count": 10,
   "metadata": {
    "scrolled": false
   },
   "outputs": [
    {
     "name": "stdout",
     "output_type": "stream",
     "text": [
      "6385\n"
     ]
    },
    {
     "data": {
      "text/plain": [
       "(array([1739., 1142.,  865.,  608.,  704.,  310.,  267.,  329.,  180.,\n",
       "         241.]),\n",
       " array([100000., 189990., 279980., 369970., 459960., 549950., 639940.,\n",
       "        729930., 819920., 909910., 999900.]),\n",
       " <a list of 10 Patch objects>)"
      ]
     },
     "execution_count": 10,
     "metadata": {},
     "output_type": "execute_result"
    },
    {
     "data": {
      "image/png": "[encoded data removed]",
      "text/plain": [
       "<Figure size 432x288 with 1 Axes>"
      ]
     },
     "metadata": {
      "needs_background": "light"
     },
     "output_type": "display_data"
    }
   ],
   "source": [
    "t = data.loc[(prices>=1e5) & (prices<1e6), '（金额）ZWPZFL_JE']\n",
    "print(len(t.index))\n",
    "plt.hist(t)"
   ]
  },
  {
   "cell_type": "code",
   "execution_count": 11,
   "metadata": {
    "scrolled": false
   },
   "outputs": [
    {
     "name": "stdout",
     "output_type": "stream",
     "text": [
      "5053\n"
     ]
    },
    {
     "data": {
      "text/plain": [
       "(array([1514.,  892.,  736.,  412.,  530.,  244.,  215.,  179.,  168.,\n",
       "         163.]),\n",
       " array([1000000., 1899976., 2799952., 3699928., 4599904., 5499880.,\n",
       "        6399856., 7299832., 8199808., 9099784., 9999760.]),\n",
       " <a list of 10 Patch objects>)"
      ]
     },
     "execution_count": 11,
     "metadata": {},
     "output_type": "execute_result"
    },
    {
     "data": {
      "image/png": "[encoded data removed]",
      "text/plain": [
       "<Figure size 432x288 with 1 Axes>"
      ]
     },
     "metadata": {
      "needs_background": "light"
     },
     "output_type": "display_data"
    }
   ],
   "source": [
    "t = data.loc[(prices>=1e6) & (prices<1e7), '（金额）ZWPZFL_JE']\n",
    "print(len(t.index))\n",
    "plt.hist(t)"
   ]
  },
  {
   "cell_type": "code",
   "execution_count": 12,
   "metadata": {
    "scrolled": false
   },
   "outputs": [
    {
     "name": "stdout",
     "output_type": "stream",
     "text": [
      "1852\n"
     ]
    },
    {
     "data": {
      "text/plain": [
       "(array([873., 367., 266., 116.,  99.,  33.,  24.,  17.,  32.,  25.]),\n",
       " array([10000000.        , 18976708.842     , 27953417.684     ,\n",
       "        36930126.526     , 45906835.368     , 54883544.21      ,\n",
       "        63860253.052     , 72836961.894     , 81813670.736     ,\n",
       "        90790379.57800001, 99767088.42      ]),\n",
       " <a list of 10 Patch objects>)"
      ]
     },
     "execution_count": 12,
     "metadata": {},
     "output_type": "execute_result"
    },
    {
     "data": {
      "image/png": "[encoded data removed]",
      "text/plain": [
       "<Figure size 432x288 with 1 Axes>"
      ]
     },
     "metadata": {
      "needs_background": "light"
     },
     "output_type": "display_data"
    }
   ],
   "source": [
    "t = data.loc[(prices>=1e7) & (prices<1e8), '（金额）ZWPZFL_JE']\n",
    "print(len(t.index))\n",
    "plt.hist(t)"
   ]
  },
  {
   "cell_type": "code",
   "execution_count": 13,
   "metadata": {},
   "outputs": [
    {
     "name": "stdout",
     "output_type": "stream",
     "text": [
      "146\n"
     ]
    },
    {
     "data": {
      "text/plain": [
       "(array([90., 19., 17.,  6.,  1.,  8.,  2.,  0.,  2.,  1.]),\n",
       " array([1.0000e+08, 1.7547e+08, 2.5094e+08, 3.2641e+08, 4.0188e+08,\n",
       "        4.7735e+08, 5.5282e+08, 6.2829e+08, 7.0376e+08, 7.7923e+08,\n",
       "        8.5470e+08]),\n",
       " <a list of 10 Patch objects>)"
      ]
     },
     "execution_count": 13,
     "metadata": {},
     "output_type": "execute_result"
    },
    {
     "data": {
      "image/png": "[encoded data removed]",
      "text/plain": [
       "<Figure size 432x288 with 1 Axes>"
      ]
     },
     "metadata": {
      "needs_background": "light"
     },
     "output_type": "display_data"
    }
   ],
   "source": [
    "t = data.loc[(prices>=1e8) & (prices<1e9), '（金额）ZWPZFL_JE']\n",
    "print(len(t.index))\n",
    "plt.hist(t)"
   ]
  },
  {
   "cell_type": "code",
   "execution_count": 14,
   "metadata": {},
   "outputs": [
    {
     "name": "stdout",
     "output_type": "stream",
     "text": [
      "4\n"
     ]
    },
    {
     "data": {
      "text/plain": [
       "(array([3., 0., 0., 0., 0., 0., 0., 0., 0., 1.]),\n",
       " array([1.31152634e+09, 1.80636646e+09, 2.30120659e+09, 2.79604671e+09,\n",
       "        3.29088684e+09, 3.78572696e+09, 4.28056709e+09, 4.77540721e+09,\n",
       "        5.27024734e+09, 5.76508746e+09, 6.25992759e+09]),\n",
       " <a list of 10 Patch objects>)"
      ]
     },
     "execution_count": 14,
     "metadata": {},
     "output_type": "execute_result"
    },
    {
     "data": {
      "image/png": "[encoded data removed]",
      "text/plain": [
       "<Figure size 432x288 with 1 Axes>"
      ]
     },
     "metadata": {
      "needs_background": "light"
     },
     "output_type": "display_data"
    }
   ],
   "source": [
    "t = data.loc[(prices>=1e9) & (prices<1e10), '（金额）ZWPZFL_JE']\n",
    "print(len(t.index))\n",
    "plt.hist(t)"
   ]
  },
  {
   "cell_type": "code",
   "execution_count": 15,
   "metadata": {},
   "outputs": [
    {
     "data": {
      "text/plain": [
       "(-348011015.157, 2959258955.215]    28131\n",
       "(2959258955.215, 6259927588.32]         1\n",
       "Name: （金额）ZWPZFL_JE, dtype: int64"
      ]
     },
     "execution_count": 15,
     "metadata": {},
     "output_type": "execute_result"
    }
   ],
   "source": [
    "prices = data['（金额）ZWPZFL_JE']\n",
    "# data.loc[(prices>0)&(prices<10000), '（金额）ZWPZFL_JE'] = 0\n",
    "# data.loc[prices<0, '（金额）ZWPZFL_JE'] = -1\n",
    "prices = data['（金额）ZWPZFL_JE']\n",
    "prices.value_counts(bins=2)"
   ]
  },
  {
   "cell_type": "code",
   "execution_count": 16,
   "metadata": {},
   "outputs": [
    {
     "data": {
      "text/plain": [
       "Text(0.5, 1.0, 'Price Distribution')"
      ]
     },
     "execution_count": 16,
     "metadata": {},
     "output_type": "execute_result"
    },
    {
     "data": {
      "image/png": "[encoded data removed]",
      "text/plain": [
       "<Figure size 504x504 with 1 Axes>"
      ]
     },
     "metadata": {
      "needs_background": "light"
     },
     "output_type": "display_data"
    }
   ],
   "source": [
    "plt.figure(figsize=(7, 7))\n",
    "plt.hist(prices,  density=False, alpha=1,\n",
    "        histtype='bar', color='steelblue', \n",
    "        edgecolor='k', bins=1000)\n",
    "# plt.axis([-1, 1, 0, 30000])\n",
    "plt.xlabel('Prices')\n",
    "plt.ylabel('Number')\n",
    "plt.title('Price Distribution')"
   ]
  },
  {
   "cell_type": "code",
   "execution_count": 17,
   "metadata": {},
   "outputs": [
    {
     "data": {
      "text/html": [
       "<div>\n",
       "<style scoped>\n",
       "    .dataframe tbody tr th:only-of-type {\n",
       "        vertical-align: middle;\n",
       "    }\n",
       "\n",
       "    .dataframe tbody tr th {\n",
       "        vertical-align: top;\n",
       "    }\n",
       "\n",
       "    .dataframe thead th {\n",
       "        text-align: right;\n",
       "    }\n",
       "</style>\n",
       "<table border=\"1\" class=\"dataframe\">\n",
       "  <thead>\n",
       "    <tr style=\"text-align: right;\">\n",
       "      <th></th>\n",
       "      <th>ZWPZFL_DWBH（单位编号）</th>\n",
       "      <th>（凭证内码）ZWPZFL_PZNM</th>\n",
       "      <th>（分录内码）ZWPZFL_FLNM</th>\n",
       "      <th>（分录编号）ZWPZFL_FLBH</th>\n",
       "      <th>（科目编号）ZWPZFL_KMBH</th>\n",
       "      <th>（摘要）ZWPZFL_ZY</th>\n",
       "      <th>（金额）ZWPZFL_JE</th>\n",
       "      <th>（记账方向）ZWPZFL_JZFX</th>\n",
       "      <th>（对方科目）ZWPZFL_DFKM</th>\n",
       "      <th>ZWPZFL_DFKMYJ</th>\n",
       "    </tr>\n",
       "  </thead>\n",
       "  <tbody>\n",
       "    <tr>\n",
       "      <th>1</th>\n",
       "      <td>A63118930507000000</td>\n",
       "      <td>17</td>\n",
       "      <td>39</td>\n",
       "      <td>2</td>\n",
       "      <td>1004001</td>\n",
       "      <td>收到天津东丽项目工程款</td>\n",
       "      <td>1753013.0</td>\n",
       "      <td>2</td>\n",
       "      <td>1.002003e+09</td>\n",
       "      <td>1002.0</td>\n",
       "    </tr>\n",
       "    <tr>\n",
       "      <th>3</th>\n",
       "      <td>A63118930507000000</td>\n",
       "      <td>16</td>\n",
       "      <td>41</td>\n",
       "      <td>2</td>\n",
       "      <td>1004001</td>\n",
       "      <td>收到高雅机电有限公司履约保证金</td>\n",
       "      <td>5000.0</td>\n",
       "      <td>2</td>\n",
       "      <td>1.002003e+09</td>\n",
       "      <td>1002.0</td>\n",
       "    </tr>\n",
       "    <tr>\n",
       "      <th>5</th>\n",
       "      <td>A63118930507000000</td>\n",
       "      <td>14</td>\n",
       "      <td>49</td>\n",
       "      <td>2</td>\n",
       "      <td>1004001</td>\n",
       "      <td>收到大宁中心项目工程款</td>\n",
       "      <td>9632017.0</td>\n",
       "      <td>2</td>\n",
       "      <td>1.002003e+09</td>\n",
       "      <td>1002.0</td>\n",
       "    </tr>\n",
       "    <tr>\n",
       "      <th>6</th>\n",
       "      <td>A63118930507000000</td>\n",
       "      <td>18</td>\n",
       "      <td>54</td>\n",
       "      <td>2</td>\n",
       "      <td>1004001</td>\n",
       "      <td>收到上海奉业金属有限公司往来款</td>\n",
       "      <td>1000000.0</td>\n",
       "      <td>2</td>\n",
       "      <td>1.002003e+09</td>\n",
       "      <td>1002.0</td>\n",
       "    </tr>\n",
       "    <tr>\n",
       "      <th>8</th>\n",
       "      <td>A63118930507000000</td>\n",
       "      <td>19</td>\n",
       "      <td>56</td>\n",
       "      <td>2</td>\n",
       "      <td>1004001</td>\n",
       "      <td>收到东盟和城项目往来款</td>\n",
       "      <td>5000000.0</td>\n",
       "      <td>2</td>\n",
       "      <td>1.002003e+09</td>\n",
       "      <td>1002.0</td>\n",
       "    </tr>\n",
       "  </tbody>\n",
       "</table>\n",
       "</div>"
      ],
      "text/plain": [
       "    ZWPZFL_DWBH（单位编号）  （凭证内码）ZWPZFL_PZNM  （分录内码）ZWPZFL_FLNM  \\\n",
       "1  A63118930507000000                 17                 39   \n",
       "3  A63118930507000000                 16                 41   \n",
       "5  A63118930507000000                 14                 49   \n",
       "6  A63118930507000000                 18                 54   \n",
       "8  A63118930507000000                 19                 56   \n",
       "\n",
       "   （分录编号）ZWPZFL_FLBH  （科目编号）ZWPZFL_KMBH    （摘要）ZWPZFL_ZY  （金额）ZWPZFL_JE  \\\n",
       "1                  2            1004001      收到天津东丽项目工程款      1753013.0   \n",
       "3                  2            1004001  收到高雅机电有限公司履约保证金         5000.0   \n",
       "5                  2            1004001      收到大宁中心项目工程款      9632017.0   \n",
       "6                  2            1004001  收到上海奉业金属有限公司往来款      1000000.0   \n",
       "8                  2            1004001      收到东盟和城项目往来款      5000000.0   \n",
       "\n",
       "   （记账方向）ZWPZFL_JZFX  （对方科目）ZWPZFL_DFKM  ZWPZFL_DFKMYJ  \n",
       "1                  2       1.002003e+09         1002.0  \n",
       "3                  2       1.002003e+09         1002.0  \n",
       "5                  2       1.002003e+09         1002.0  \n",
       "6                  2       1.002003e+09         1002.0  \n",
       "8                  2       1.002003e+09         1002.0  "
      ]
     },
     "execution_count": 17,
     "metadata": {},
     "output_type": "execute_result"
    }
   ],
   "source": [
    "data.head()"
   ]
  },
  {
   "cell_type": "code",
   "execution_count": 18,
   "metadata": {},
   "outputs": [
    {
     "data": {
      "text/html": [
       "<div>\n",
       "<style scoped>\n",
       "    .dataframe tbody tr th:only-of-type {\n",
       "        vertical-align: middle;\n",
       "    }\n",
       "\n",
       "    .dataframe tbody tr th {\n",
       "        vertical-align: top;\n",
       "    }\n",
       "\n",
       "    .dataframe thead th {\n",
       "        text-align: right;\n",
       "    }\n",
       "</style>\n",
       "<table border=\"1\" class=\"dataframe\">\n",
       "  <thead>\n",
       "    <tr style=\"text-align: right;\">\n",
       "      <th></th>\n",
       "      <th>ZWPZFL_DWBH（单位编号）</th>\n",
       "      <th>（凭证内码）ZWPZFL_PZNM</th>\n",
       "      <th>（分录内码）ZWPZFL_FLNM</th>\n",
       "      <th>（分录编号）ZWPZFL_FLBH</th>\n",
       "      <th>（科目编号）ZWPZFL_KMBH</th>\n",
       "      <th>（摘要）ZWPZFL_ZY</th>\n",
       "      <th>（金额）ZWPZFL_JE</th>\n",
       "      <th>（记账方向）ZWPZFL_JZFX</th>\n",
       "      <th>（对方科目）ZWPZFL_DFKM</th>\n",
       "      <th>ZWPZFL_DFKMYJ</th>\n",
       "    </tr>\n",
       "  </thead>\n",
       "  <tbody>\n",
       "    <tr>\n",
       "      <th>1</th>\n",
       "      <td>A63118930507000000</td>\n",
       "      <td>17</td>\n",
       "      <td>39</td>\n",
       "      <td>2</td>\n",
       "      <td>1004001</td>\n",
       "      <td>收到天津东丽项目工程款</td>\n",
       "      <td>1753013.0</td>\n",
       "      <td>2</td>\n",
       "      <td>1002.0</td>\n",
       "      <td>1002.0</td>\n",
       "    </tr>\n",
       "    <tr>\n",
       "      <th>3</th>\n",
       "      <td>A63118930507000000</td>\n",
       "      <td>16</td>\n",
       "      <td>41</td>\n",
       "      <td>2</td>\n",
       "      <td>1004001</td>\n",
       "      <td>收到高雅机电有限公司履约保证金</td>\n",
       "      <td>5000.0</td>\n",
       "      <td>2</td>\n",
       "      <td>1002.0</td>\n",
       "      <td>1002.0</td>\n",
       "    </tr>\n",
       "    <tr>\n",
       "      <th>5</th>\n",
       "      <td>A63118930507000000</td>\n",
       "      <td>14</td>\n",
       "      <td>49</td>\n",
       "      <td>2</td>\n",
       "      <td>1004001</td>\n",
       "      <td>收到大宁中心项目工程款</td>\n",
       "      <td>9632017.0</td>\n",
       "      <td>2</td>\n",
       "      <td>1002.0</td>\n",
       "      <td>1002.0</td>\n",
       "    </tr>\n",
       "    <tr>\n",
       "      <th>6</th>\n",
       "      <td>A63118930507000000</td>\n",
       "      <td>18</td>\n",
       "      <td>54</td>\n",
       "      <td>2</td>\n",
       "      <td>1004001</td>\n",
       "      <td>收到上海奉业金属有限公司往来款</td>\n",
       "      <td>1000000.0</td>\n",
       "      <td>2</td>\n",
       "      <td>1002.0</td>\n",
       "      <td>1002.0</td>\n",
       "    </tr>\n",
       "    <tr>\n",
       "      <th>8</th>\n",
       "      <td>A63118930507000000</td>\n",
       "      <td>19</td>\n",
       "      <td>56</td>\n",
       "      <td>2</td>\n",
       "      <td>1004001</td>\n",
       "      <td>收到东盟和城项目往来款</td>\n",
       "      <td>5000000.0</td>\n",
       "      <td>2</td>\n",
       "      <td>1002.0</td>\n",
       "      <td>1002.0</td>\n",
       "    </tr>\n",
       "  </tbody>\n",
       "</table>\n",
       "</div>"
      ],
      "text/plain": [
       "    ZWPZFL_DWBH（单位编号）  （凭证内码）ZWPZFL_PZNM  （分录内码）ZWPZFL_FLNM  \\\n",
       "1  A63118930507000000                 17                 39   \n",
       "3  A63118930507000000                 16                 41   \n",
       "5  A63118930507000000                 14                 49   \n",
       "6  A63118930507000000                 18                 54   \n",
       "8  A63118930507000000                 19                 56   \n",
       "\n",
       "   （分录编号）ZWPZFL_FLBH  （科目编号）ZWPZFL_KMBH    （摘要）ZWPZFL_ZY  （金额）ZWPZFL_JE  \\\n",
       "1                  2            1004001      收到天津东丽项目工程款      1753013.0   \n",
       "3                  2            1004001  收到高雅机电有限公司履约保证金         5000.0   \n",
       "5                  2            1004001      收到大宁中心项目工程款      9632017.0   \n",
       "6                  2            1004001  收到上海奉业金属有限公司往来款      1000000.0   \n",
       "8                  2            1004001      收到东盟和城项目往来款      5000000.0   \n",
       "\n",
       "   （记账方向）ZWPZFL_JZFX  （对方科目）ZWPZFL_DFKM  ZWPZFL_DFKMYJ  \n",
       "1                  2             1002.0         1002.0  \n",
       "3                  2             1002.0         1002.0  \n",
       "5                  2             1002.0         1002.0  \n",
       "6                  2             1002.0         1002.0  \n",
       "8                  2             1002.0         1002.0  "
      ]
     },
     "execution_count": 18,
     "metadata": {},
     "output_type": "execute_result"
    }
   ],
   "source": [
    "data['（对方科目）ZWPZFL_DFKM'] = data['（对方科目）ZWPZFL_DFKM'].apply(lambda x: 1002.0 \n",
    "                                                                    if pd.isnull(x) \n",
    "                                                                    else float(str(x)[0:4]))\n",
    "data.head()"
   ]
  },
  {
   "cell_type": "code",
   "execution_count": 19,
   "metadata": {
    "scrolled": true
   },
   "outputs": [
    {
     "data": {
      "text/plain": [
       "0"
      ]
     },
     "execution_count": 19,
     "metadata": {},
     "output_type": "execute_result"
    }
   ],
   "source": [
    "pd.isnull(data['ZWPZFL_DWBH（单位编号）']).sum()"
   ]
  },
  {
   "cell_type": "code",
   "execution_count": 20,
   "metadata": {},
   "outputs": [
    {
     "data": {
      "text/plain": [
       "138"
      ]
     },
     "execution_count": 20,
     "metadata": {},
     "output_type": "execute_result"
    }
   ],
   "source": [
    "len(data['ZWPZFL_DWBH（单位编号）'].unique())"
   ]
  },
  {
   "cell_type": "code",
   "execution_count": 21,
   "metadata": {},
   "outputs": [
    {
     "data": {
      "text/html": [
       "<div>\n",
       "<style scoped>\n",
       "    .dataframe tbody tr th:only-of-type {\n",
       "        vertical-align: middle;\n",
       "    }\n",
       "\n",
       "    .dataframe tbody tr th {\n",
       "        vertical-align: top;\n",
       "    }\n",
       "\n",
       "    .dataframe thead th {\n",
       "        text-align: right;\n",
       "    }\n",
       "</style>\n",
       "<table border=\"1\" class=\"dataframe\">\n",
       "  <thead>\n",
       "    <tr style=\"text-align: right;\">\n",
       "      <th></th>\n",
       "      <th>ZWPZFL_DWBH（单位编号）</th>\n",
       "      <th>（凭证内码）ZWPZFL_PZNM</th>\n",
       "      <th>（分录内码）ZWPZFL_FLNM</th>\n",
       "      <th>（分录编号）ZWPZFL_FLBH</th>\n",
       "      <th>（科目编号）ZWPZFL_KMBH</th>\n",
       "      <th>（摘要）ZWPZFL_ZY</th>\n",
       "      <th>（金额）ZWPZFL_JE</th>\n",
       "      <th>（记账方向）ZWPZFL_JZFX</th>\n",
       "      <th>（对方科目）ZWPZFL_DFKM</th>\n",
       "      <th>ZWPZFL_DFKMYJ</th>\n",
       "    </tr>\n",
       "  </thead>\n",
       "  <tbody>\n",
       "    <tr>\n",
       "      <th>1</th>\n",
       "      <td>0</td>\n",
       "      <td>17</td>\n",
       "      <td>39</td>\n",
       "      <td>2</td>\n",
       "      <td>1004001</td>\n",
       "      <td>收到天津东丽项目工程款</td>\n",
       "      <td>1753013.0</td>\n",
       "      <td>2</td>\n",
       "      <td>1002.0</td>\n",
       "      <td>1002.0</td>\n",
       "    </tr>\n",
       "    <tr>\n",
       "      <th>3</th>\n",
       "      <td>0</td>\n",
       "      <td>16</td>\n",
       "      <td>41</td>\n",
       "      <td>2</td>\n",
       "      <td>1004001</td>\n",
       "      <td>收到高雅机电有限公司履约保证金</td>\n",
       "      <td>5000.0</td>\n",
       "      <td>2</td>\n",
       "      <td>1002.0</td>\n",
       "      <td>1002.0</td>\n",
       "    </tr>\n",
       "    <tr>\n",
       "      <th>5</th>\n",
       "      <td>0</td>\n",
       "      <td>14</td>\n",
       "      <td>49</td>\n",
       "      <td>2</td>\n",
       "      <td>1004001</td>\n",
       "      <td>收到大宁中心项目工程款</td>\n",
       "      <td>9632017.0</td>\n",
       "      <td>2</td>\n",
       "      <td>1002.0</td>\n",
       "      <td>1002.0</td>\n",
       "    </tr>\n",
       "    <tr>\n",
       "      <th>6</th>\n",
       "      <td>0</td>\n",
       "      <td>18</td>\n",
       "      <td>54</td>\n",
       "      <td>2</td>\n",
       "      <td>1004001</td>\n",
       "      <td>收到上海奉业金属有限公司往来款</td>\n",
       "      <td>1000000.0</td>\n",
       "      <td>2</td>\n",
       "      <td>1002.0</td>\n",
       "      <td>1002.0</td>\n",
       "    </tr>\n",
       "    <tr>\n",
       "      <th>8</th>\n",
       "      <td>0</td>\n",
       "      <td>19</td>\n",
       "      <td>56</td>\n",
       "      <td>2</td>\n",
       "      <td>1004001</td>\n",
       "      <td>收到东盟和城项目往来款</td>\n",
       "      <td>5000000.0</td>\n",
       "      <td>2</td>\n",
       "      <td>1002.0</td>\n",
       "      <td>1002.0</td>\n",
       "    </tr>\n",
       "  </tbody>\n",
       "</table>\n",
       "</div>"
      ],
      "text/plain": [
       "   ZWPZFL_DWBH（单位编号）  （凭证内码）ZWPZFL_PZNM  （分录内码）ZWPZFL_FLNM  （分录编号）ZWPZFL_FLBH  \\\n",
       "1                  0                 17                 39                  2   \n",
       "3                  0                 16                 41                  2   \n",
       "5                  0                 14                 49                  2   \n",
       "6                  0                 18                 54                  2   \n",
       "8                  0                 19                 56                  2   \n",
       "\n",
       "   （科目编号）ZWPZFL_KMBH    （摘要）ZWPZFL_ZY  （金额）ZWPZFL_JE  （记账方向）ZWPZFL_JZFX  \\\n",
       "1            1004001      收到天津东丽项目工程款      1753013.0                  2   \n",
       "3            1004001  收到高雅机电有限公司履约保证金         5000.0                  2   \n",
       "5            1004001      收到大宁中心项目工程款      9632017.0                  2   \n",
       "6            1004001  收到上海奉业金属有限公司往来款      1000000.0                  2   \n",
       "8            1004001      收到东盟和城项目往来款      5000000.0                  2   \n",
       "\n",
       "   （对方科目）ZWPZFL_DFKM  ZWPZFL_DFKMYJ  \n",
       "1             1002.0         1002.0  \n",
       "3             1002.0         1002.0  \n",
       "5             1002.0         1002.0  \n",
       "6             1002.0         1002.0  \n",
       "8             1002.0         1002.0  "
      ]
     },
     "execution_count": 21,
     "metadata": {},
     "output_type": "execute_result"
    }
   ],
   "source": [
    "dwbh = dict(enumerate(data['ZWPZFL_DWBH（单位编号）'].unique()))\n",
    "dwbh_map = dict((v, k) for (k, v) in dwbh.items())\n",
    "data['ZWPZFL_DWBH（单位编号）'] = data['ZWPZFL_DWBH（单位编号）'].apply(lambda x: dwbh_map[x])\n",
    "data.head()"
   ]
  },
  {
   "cell_type": "code",
   "execution_count": 22,
   "metadata": {},
   "outputs": [
    {
     "name": "stdout",
     "output_type": "stream",
     "text": [
      "2583\n",
      "0\n"
     ]
    }
   ],
   "source": [
    "print(len(data['（凭证内码）ZWPZFL_PZNM'].unique()))\n",
    "print(pd.isnull(data['（凭证内码）ZWPZFL_PZNM']).sum())"
   ]
  },
  {
   "cell_type": "code",
   "execution_count": 23,
   "metadata": {},
   "outputs": [
    {
     "name": "stdout",
     "output_type": "stream",
     "text": [
      "6107\n",
      "0\n"
     ]
    }
   ],
   "source": [
    "print(len(data['（分录内码）ZWPZFL_FLNM'].unique()))\n",
    "print(pd.isnull(data['（分录内码）ZWPZFL_FLNM']).sum())"
   ]
  },
  {
   "cell_type": "code",
   "execution_count": 24,
   "metadata": {},
   "outputs": [
    {
     "name": "stdout",
     "output_type": "stream",
     "text": [
      "99\n",
      "0\n"
     ]
    }
   ],
   "source": [
    "print(len(data['（分录编号）ZWPZFL_FLBH'].unique()))\n",
    "print(pd.isnull(data['（分录编号）ZWPZFL_FLBH']).sum())"
   ]
  },
  {
   "cell_type": "code",
   "execution_count": 25,
   "metadata": {},
   "outputs": [
    {
     "name": "stdout",
     "output_type": "stream",
     "text": [
      "378\n",
      "0\n"
     ]
    }
   ],
   "source": [
    "print(len(data['（科目编号）ZWPZFL_KMBH'].unique()))\n",
    "print(pd.isnull(data['（科目编号）ZWPZFL_KMBH']).sum())"
   ]
  },
  {
   "cell_type": "code",
   "execution_count": 26,
   "metadata": {},
   "outputs": [
    {
     "data": {
      "text/html": [
       "<div>\n",
       "<style scoped>\n",
       "    .dataframe tbody tr th:only-of-type {\n",
       "        vertical-align: middle;\n",
       "    }\n",
       "\n",
       "    .dataframe tbody tr th {\n",
       "        vertical-align: top;\n",
       "    }\n",
       "\n",
       "    .dataframe thead th {\n",
       "        text-align: right;\n",
       "    }\n",
       "</style>\n",
       "<table border=\"1\" class=\"dataframe\">\n",
       "  <thead>\n",
       "    <tr style=\"text-align: right;\">\n",
       "      <th></th>\n",
       "      <th>ZWPZFL_DWBH（单位编号）</th>\n",
       "      <th>（凭证内码）ZWPZFL_PZNM</th>\n",
       "      <th>（分录内码）ZWPZFL_FLNM</th>\n",
       "      <th>（分录编号）ZWPZFL_FLBH</th>\n",
       "      <th>（科目编号）ZWPZFL_KMBH</th>\n",
       "      <th>（摘要）ZWPZFL_ZY</th>\n",
       "      <th>（金额）ZWPZFL_JE</th>\n",
       "      <th>（记账方向）ZWPZFL_JZFX</th>\n",
       "      <th>（对方科目）ZWPZFL_DFKM</th>\n",
       "      <th>ZWPZFL_DFKMYJ</th>\n",
       "    </tr>\n",
       "  </thead>\n",
       "  <tbody>\n",
       "    <tr>\n",
       "      <th>1</th>\n",
       "      <td>0</td>\n",
       "      <td>17</td>\n",
       "      <td>39</td>\n",
       "      <td>2</td>\n",
       "      <td>0</td>\n",
       "      <td>收到天津东丽项目工程款</td>\n",
       "      <td>1753013.0</td>\n",
       "      <td>2</td>\n",
       "      <td>1002.0</td>\n",
       "      <td>1002.0</td>\n",
       "    </tr>\n",
       "    <tr>\n",
       "      <th>3</th>\n",
       "      <td>0</td>\n",
       "      <td>16</td>\n",
       "      <td>41</td>\n",
       "      <td>2</td>\n",
       "      <td>0</td>\n",
       "      <td>收到高雅机电有限公司履约保证金</td>\n",
       "      <td>5000.0</td>\n",
       "      <td>2</td>\n",
       "      <td>1002.0</td>\n",
       "      <td>1002.0</td>\n",
       "    </tr>\n",
       "    <tr>\n",
       "      <th>5</th>\n",
       "      <td>0</td>\n",
       "      <td>14</td>\n",
       "      <td>49</td>\n",
       "      <td>2</td>\n",
       "      <td>0</td>\n",
       "      <td>收到大宁中心项目工程款</td>\n",
       "      <td>9632017.0</td>\n",
       "      <td>2</td>\n",
       "      <td>1002.0</td>\n",
       "      <td>1002.0</td>\n",
       "    </tr>\n",
       "    <tr>\n",
       "      <th>6</th>\n",
       "      <td>0</td>\n",
       "      <td>18</td>\n",
       "      <td>54</td>\n",
       "      <td>2</td>\n",
       "      <td>0</td>\n",
       "      <td>收到上海奉业金属有限公司往来款</td>\n",
       "      <td>1000000.0</td>\n",
       "      <td>2</td>\n",
       "      <td>1002.0</td>\n",
       "      <td>1002.0</td>\n",
       "    </tr>\n",
       "    <tr>\n",
       "      <th>8</th>\n",
       "      <td>0</td>\n",
       "      <td>19</td>\n",
       "      <td>56</td>\n",
       "      <td>2</td>\n",
       "      <td>0</td>\n",
       "      <td>收到东盟和城项目往来款</td>\n",
       "      <td>5000000.0</td>\n",
       "      <td>2</td>\n",
       "      <td>1002.0</td>\n",
       "      <td>1002.0</td>\n",
       "    </tr>\n",
       "    <tr>\n",
       "      <th>10</th>\n",
       "      <td>0</td>\n",
       "      <td>23</td>\n",
       "      <td>65</td>\n",
       "      <td>2</td>\n",
       "      <td>0</td>\n",
       "      <td>收到吴江厂房工程款</td>\n",
       "      <td>2084300.0</td>\n",
       "      <td>2</td>\n",
       "      <td>1002.0</td>\n",
       "      <td>1002.0</td>\n",
       "    </tr>\n",
       "    <tr>\n",
       "      <th>12</th>\n",
       "      <td>0</td>\n",
       "      <td>15</td>\n",
       "      <td>67</td>\n",
       "      <td>2</td>\n",
       "      <td>0</td>\n",
       "      <td>收到建工股份有限公司往来款</td>\n",
       "      <td>6000000.0</td>\n",
       "      <td>2</td>\n",
       "      <td>1002.0</td>\n",
       "      <td>1002.0</td>\n",
       "    </tr>\n",
       "    <tr>\n",
       "      <th>14</th>\n",
       "      <td>0</td>\n",
       "      <td>4</td>\n",
       "      <td>73</td>\n",
       "      <td>2</td>\n",
       "      <td>0</td>\n",
       "      <td>收到沪杭高铁项目往来款</td>\n",
       "      <td>250000.0</td>\n",
       "      <td>2</td>\n",
       "      <td>1002.0</td>\n",
       "      <td>1002.0</td>\n",
       "    </tr>\n",
       "    <tr>\n",
       "      <th>16</th>\n",
       "      <td>0</td>\n",
       "      <td>3</td>\n",
       "      <td>75</td>\n",
       "      <td>2</td>\n",
       "      <td>1</td>\n",
       "      <td>收到上海圣明建设灵业有限公司济南鑫苑项目保证金</td>\n",
       "      <td>3000000.0</td>\n",
       "      <td>2</td>\n",
       "      <td>1002.0</td>\n",
       "      <td>1002.0</td>\n",
       "    </tr>\n",
       "    <tr>\n",
       "      <th>18</th>\n",
       "      <td>0</td>\n",
       "      <td>2</td>\n",
       "      <td>77</td>\n",
       "      <td>2</td>\n",
       "      <td>0</td>\n",
       "      <td>收到柳州独秀苑项目往来款</td>\n",
       "      <td>12920000.0</td>\n",
       "      <td>2</td>\n",
       "      <td>1002.0</td>\n",
       "      <td>1002.0</td>\n",
       "    </tr>\n",
       "  </tbody>\n",
       "</table>\n",
       "</div>"
      ],
      "text/plain": [
       "    ZWPZFL_DWBH（单位编号）  （凭证内码）ZWPZFL_PZNM  （分录内码）ZWPZFL_FLNM  \\\n",
       "1                   0                 17                 39   \n",
       "3                   0                 16                 41   \n",
       "5                   0                 14                 49   \n",
       "6                   0                 18                 54   \n",
       "8                   0                 19                 56   \n",
       "10                  0                 23                 65   \n",
       "12                  0                 15                 67   \n",
       "14                  0                  4                 73   \n",
       "16                  0                  3                 75   \n",
       "18                  0                  2                 77   \n",
       "\n",
       "    （分录编号）ZWPZFL_FLBH  （科目编号）ZWPZFL_KMBH            （摘要）ZWPZFL_ZY  \\\n",
       "1                   2                  0              收到天津东丽项目工程款   \n",
       "3                   2                  0          收到高雅机电有限公司履约保证金   \n",
       "5                   2                  0              收到大宁中心项目工程款   \n",
       "6                   2                  0          收到上海奉业金属有限公司往来款   \n",
       "8                   2                  0              收到东盟和城项目往来款   \n",
       "10                  2                  0                收到吴江厂房工程款   \n",
       "12                  2                  0            收到建工股份有限公司往来款   \n",
       "14                  2                  0              收到沪杭高铁项目往来款   \n",
       "16                  2                  1  收到上海圣明建设灵业有限公司济南鑫苑项目保证金   \n",
       "18                  2                  0             收到柳州独秀苑项目往来款   \n",
       "\n",
       "    （金额）ZWPZFL_JE  （记账方向）ZWPZFL_JZFX  （对方科目）ZWPZFL_DFKM  ZWPZFL_DFKMYJ  \n",
       "1       1753013.0                  2             1002.0         1002.0  \n",
       "3          5000.0                  2             1002.0         1002.0  \n",
       "5       9632017.0                  2             1002.0         1002.0  \n",
       "6       1000000.0                  2             1002.0         1002.0  \n",
       "8       5000000.0                  2             1002.0         1002.0  \n",
       "10      2084300.0                  2             1002.0         1002.0  \n",
       "12      6000000.0                  2             1002.0         1002.0  \n",
       "14       250000.0                  2             1002.0         1002.0  \n",
       "16      3000000.0                  2             1002.0         1002.0  \n",
       "18     12920000.0                  2             1002.0         1002.0  "
      ]
     },
     "execution_count": 26,
     "metadata": {},
     "output_type": "execute_result"
    }
   ],
   "source": [
    "norm = data['（科目编号）ZWPZFL_KMBH'].max()\n",
    "# data['（科目编号）ZWPZFL_KMBH'] = data['（科目编号）ZWPZFL_KMBH'].apply(lambda x: x/norm)\n",
    "kmbh = dict(enumerate(data['（科目编号）ZWPZFL_KMBH'].unique()))\n",
    "kmbh_map = dict((v, k) for (k, v) in kmbh.items())\n",
    "data['（科目编号）ZWPZFL_KMBH'] = data['（科目编号）ZWPZFL_KMBH'].apply(lambda x: kmbh_map[x])\n",
    "data.head(10)"
   ]
  },
  {
   "cell_type": "code",
   "execution_count": 27,
   "metadata": {},
   "outputs": [
    {
     "name": "stdout",
     "output_type": "stream",
     "text": [
      "10891\n",
      "0\n"
     ]
    }
   ],
   "source": [
    "print(len(data['（摘要）ZWPZFL_ZY'].unique()))\n",
    "print(pd.isnull(data['（摘要）ZWPZFL_ZY']).sum())"
   ]
  },
  {
   "cell_type": "code",
   "execution_count": 28,
   "metadata": {},
   "outputs": [
    {
     "data": {
      "text/html": [
       "<div>\n",
       "<style scoped>\n",
       "    .dataframe tbody tr th:only-of-type {\n",
       "        vertical-align: middle;\n",
       "    }\n",
       "\n",
       "    .dataframe tbody tr th {\n",
       "        vertical-align: top;\n",
       "    }\n",
       "\n",
       "    .dataframe thead th {\n",
       "        text-align: right;\n",
       "    }\n",
       "</style>\n",
       "<table border=\"1\" class=\"dataframe\">\n",
       "  <thead>\n",
       "    <tr style=\"text-align: right;\">\n",
       "      <th></th>\n",
       "      <th>ZWPZFL_DWBH（单位编号）</th>\n",
       "      <th>（凭证内码）ZWPZFL_PZNM</th>\n",
       "      <th>（分录内码）ZWPZFL_FLNM</th>\n",
       "      <th>（分录编号）ZWPZFL_FLBH</th>\n",
       "      <th>（科目编号）ZWPZFL_KMBH</th>\n",
       "      <th>（摘要）ZWPZFL_ZY</th>\n",
       "      <th>（金额）ZWPZFL_JE</th>\n",
       "      <th>（记账方向）ZWPZFL_JZFX</th>\n",
       "      <th>（对方科目）ZWPZFL_DFKM</th>\n",
       "      <th>ZWPZFL_DFKMYJ</th>\n",
       "    </tr>\n",
       "  </thead>\n",
       "  <tbody>\n",
       "    <tr>\n",
       "      <th>1</th>\n",
       "      <td>0</td>\n",
       "      <td>17</td>\n",
       "      <td>39</td>\n",
       "      <td>2</td>\n",
       "      <td>0</td>\n",
       "      <td>0</td>\n",
       "      <td>1753013.0</td>\n",
       "      <td>2</td>\n",
       "      <td>1002.0</td>\n",
       "      <td>1002.0</td>\n",
       "    </tr>\n",
       "    <tr>\n",
       "      <th>3</th>\n",
       "      <td>0</td>\n",
       "      <td>16</td>\n",
       "      <td>41</td>\n",
       "      <td>2</td>\n",
       "      <td>0</td>\n",
       "      <td>1</td>\n",
       "      <td>5000.0</td>\n",
       "      <td>2</td>\n",
       "      <td>1002.0</td>\n",
       "      <td>1002.0</td>\n",
       "    </tr>\n",
       "    <tr>\n",
       "      <th>5</th>\n",
       "      <td>0</td>\n",
       "      <td>14</td>\n",
       "      <td>49</td>\n",
       "      <td>2</td>\n",
       "      <td>0</td>\n",
       "      <td>2</td>\n",
       "      <td>9632017.0</td>\n",
       "      <td>2</td>\n",
       "      <td>1002.0</td>\n",
       "      <td>1002.0</td>\n",
       "    </tr>\n",
       "    <tr>\n",
       "      <th>6</th>\n",
       "      <td>0</td>\n",
       "      <td>18</td>\n",
       "      <td>54</td>\n",
       "      <td>2</td>\n",
       "      <td>0</td>\n",
       "      <td>3</td>\n",
       "      <td>1000000.0</td>\n",
       "      <td>2</td>\n",
       "      <td>1002.0</td>\n",
       "      <td>1002.0</td>\n",
       "    </tr>\n",
       "    <tr>\n",
       "      <th>8</th>\n",
       "      <td>0</td>\n",
       "      <td>19</td>\n",
       "      <td>56</td>\n",
       "      <td>2</td>\n",
       "      <td>0</td>\n",
       "      <td>4</td>\n",
       "      <td>5000000.0</td>\n",
       "      <td>2</td>\n",
       "      <td>1002.0</td>\n",
       "      <td>1002.0</td>\n",
       "    </tr>\n",
       "  </tbody>\n",
       "</table>\n",
       "</div>"
      ],
      "text/plain": [
       "   ZWPZFL_DWBH（单位编号）  （凭证内码）ZWPZFL_PZNM  （分录内码）ZWPZFL_FLNM  （分录编号）ZWPZFL_FLBH  \\\n",
       "1                  0                 17                 39                  2   \n",
       "3                  0                 16                 41                  2   \n",
       "5                  0                 14                 49                  2   \n",
       "6                  0                 18                 54                  2   \n",
       "8                  0                 19                 56                  2   \n",
       "\n",
       "   （科目编号）ZWPZFL_KMBH  （摘要）ZWPZFL_ZY  （金额）ZWPZFL_JE  （记账方向）ZWPZFL_JZFX  \\\n",
       "1                  0              0      1753013.0                  2   \n",
       "3                  0              1         5000.0                  2   \n",
       "5                  0              2      9632017.0                  2   \n",
       "6                  0              3      1000000.0                  2   \n",
       "8                  0              4      5000000.0                  2   \n",
       "\n",
       "   （对方科目）ZWPZFL_DFKM  ZWPZFL_DFKMYJ  \n",
       "1             1002.0         1002.0  \n",
       "3             1002.0         1002.0  \n",
       "5             1002.0         1002.0  \n",
       "6             1002.0         1002.0  \n",
       "8             1002.0         1002.0  "
      ]
     },
     "execution_count": 28,
     "metadata": {},
     "output_type": "execute_result"
    }
   ],
   "source": [
    "zy = dict(enumerate(data['（摘要）ZWPZFL_ZY'].unique()))\n",
    "zy_map = dict((v, k) for (k, v) in zy.items())\n",
    "data['（摘要）ZWPZFL_ZY'] = data['（摘要）ZWPZFL_ZY'].apply(lambda x: zy_map[x])\n",
    "data.head()"
   ]
  },
  {
   "cell_type": "code",
   "execution_count": 29,
   "metadata": {},
   "outputs": [
    {
     "data": {
      "text/html": [
       "<div>\n",
       "<style scoped>\n",
       "    .dataframe tbody tr th:only-of-type {\n",
       "        vertical-align: middle;\n",
       "    }\n",
       "\n",
       "    .dataframe tbody tr th {\n",
       "        vertical-align: top;\n",
       "    }\n",
       "\n",
       "    .dataframe thead th {\n",
       "        text-align: right;\n",
       "    }\n",
       "</style>\n",
       "<table border=\"1\" class=\"dataframe\">\n",
       "  <thead>\n",
       "    <tr style=\"text-align: right;\">\n",
       "      <th></th>\n",
       "      <th>ZWPZFL_DWBH（单位编号）</th>\n",
       "      <th>（凭证内码）ZWPZFL_PZNM</th>\n",
       "      <th>（分录内码）ZWPZFL_FLNM</th>\n",
       "      <th>（分录编号）ZWPZFL_FLBH</th>\n",
       "      <th>（科目编号）ZWPZFL_KMBH</th>\n",
       "      <th>（摘要）ZWPZFL_ZY</th>\n",
       "      <th>（金额）ZWPZFL_JE</th>\n",
       "    </tr>\n",
       "  </thead>\n",
       "  <tbody>\n",
       "    <tr>\n",
       "      <th>1</th>\n",
       "      <td>0</td>\n",
       "      <td>17</td>\n",
       "      <td>39</td>\n",
       "      <td>2</td>\n",
       "      <td>0</td>\n",
       "      <td>0</td>\n",
       "      <td>1753013.0</td>\n",
       "    </tr>\n",
       "    <tr>\n",
       "      <th>3</th>\n",
       "      <td>0</td>\n",
       "      <td>16</td>\n",
       "      <td>41</td>\n",
       "      <td>2</td>\n",
       "      <td>0</td>\n",
       "      <td>1</td>\n",
       "      <td>5000.0</td>\n",
       "    </tr>\n",
       "    <tr>\n",
       "      <th>5</th>\n",
       "      <td>0</td>\n",
       "      <td>14</td>\n",
       "      <td>49</td>\n",
       "      <td>2</td>\n",
       "      <td>0</td>\n",
       "      <td>2</td>\n",
       "      <td>9632017.0</td>\n",
       "    </tr>\n",
       "    <tr>\n",
       "      <th>6</th>\n",
       "      <td>0</td>\n",
       "      <td>18</td>\n",
       "      <td>54</td>\n",
       "      <td>2</td>\n",
       "      <td>0</td>\n",
       "      <td>3</td>\n",
       "      <td>1000000.0</td>\n",
       "    </tr>\n",
       "    <tr>\n",
       "      <th>8</th>\n",
       "      <td>0</td>\n",
       "      <td>19</td>\n",
       "      <td>56</td>\n",
       "      <td>2</td>\n",
       "      <td>0</td>\n",
       "      <td>4</td>\n",
       "      <td>5000000.0</td>\n",
       "    </tr>\n",
       "    <tr>\n",
       "      <th>10</th>\n",
       "      <td>0</td>\n",
       "      <td>23</td>\n",
       "      <td>65</td>\n",
       "      <td>2</td>\n",
       "      <td>0</td>\n",
       "      <td>5</td>\n",
       "      <td>2084300.0</td>\n",
       "    </tr>\n",
       "    <tr>\n",
       "      <th>12</th>\n",
       "      <td>0</td>\n",
       "      <td>15</td>\n",
       "      <td>67</td>\n",
       "      <td>2</td>\n",
       "      <td>0</td>\n",
       "      <td>6</td>\n",
       "      <td>6000000.0</td>\n",
       "    </tr>\n",
       "    <tr>\n",
       "      <th>14</th>\n",
       "      <td>0</td>\n",
       "      <td>4</td>\n",
       "      <td>73</td>\n",
       "      <td>2</td>\n",
       "      <td>0</td>\n",
       "      <td>7</td>\n",
       "      <td>250000.0</td>\n",
       "    </tr>\n",
       "    <tr>\n",
       "      <th>16</th>\n",
       "      <td>0</td>\n",
       "      <td>3</td>\n",
       "      <td>75</td>\n",
       "      <td>2</td>\n",
       "      <td>1</td>\n",
       "      <td>8</td>\n",
       "      <td>3000000.0</td>\n",
       "    </tr>\n",
       "    <tr>\n",
       "      <th>18</th>\n",
       "      <td>0</td>\n",
       "      <td>2</td>\n",
       "      <td>77</td>\n",
       "      <td>2</td>\n",
       "      <td>0</td>\n",
       "      <td>9</td>\n",
       "      <td>12920000.0</td>\n",
       "    </tr>\n",
       "  </tbody>\n",
       "</table>\n",
       "</div>"
      ],
      "text/plain": [
       "    ZWPZFL_DWBH（单位编号）  （凭证内码）ZWPZFL_PZNM  （分录内码）ZWPZFL_FLNM  \\\n",
       "1                   0                 17                 39   \n",
       "3                   0                 16                 41   \n",
       "5                   0                 14                 49   \n",
       "6                   0                 18                 54   \n",
       "8                   0                 19                 56   \n",
       "10                  0                 23                 65   \n",
       "12                  0                 15                 67   \n",
       "14                  0                  4                 73   \n",
       "16                  0                  3                 75   \n",
       "18                  0                  2                 77   \n",
       "\n",
       "    （分录编号）ZWPZFL_FLBH  （科目编号）ZWPZFL_KMBH  （摘要）ZWPZFL_ZY  （金额）ZWPZFL_JE  \n",
       "1                   2                  0              0      1753013.0  \n",
       "3                   2                  0              1         5000.0  \n",
       "5                   2                  0              2      9632017.0  \n",
       "6                   2                  0              3      1000000.0  \n",
       "8                   2                  0              4      5000000.0  \n",
       "10                  2                  0              5      2084300.0  \n",
       "12                  2                  0              6      6000000.0  \n",
       "14                  2                  0              7       250000.0  \n",
       "16                  2                  1              8      3000000.0  \n",
       "18                  2                  0              9     12920000.0  "
      ]
     },
     "execution_count": 29,
     "metadata": {},
     "output_type": "execute_result"
    }
   ],
   "source": [
    "data.drop(columns=['（记账方向）ZWPZFL_JZFX', '（对方科目）ZWPZFL_DFKM', 'ZWPZFL_DFKMYJ'], inplace=True)\n",
    "data.head(10)"
   ]
  },
  {
   "cell_type": "code",
   "execution_count": 30,
   "metadata": {},
   "outputs": [
    {
     "data": {
      "text/plain": [
       "(28132, 7)"
      ]
     },
     "execution_count": 30,
     "metadata": {},
     "output_type": "execute_result"
    }
   ],
   "source": [
    "data.shape"
   ]
  },
  {
   "cell_type": "code",
   "execution_count": 31,
   "metadata": {},
   "outputs": [
    {
     "data": {
      "text/html": [
       "<div>\n",
       "<style scoped>\n",
       "    .dataframe tbody tr th:only-of-type {\n",
       "        vertical-align: middle;\n",
       "    }\n",
       "\n",
       "    .dataframe tbody tr th {\n",
       "        vertical-align: top;\n",
       "    }\n",
       "\n",
       "    .dataframe thead th {\n",
       "        text-align: right;\n",
       "    }\n",
       "</style>\n",
       "<table border=\"1\" class=\"dataframe\">\n",
       "  <thead>\n",
       "    <tr style=\"text-align: right;\">\n",
       "      <th></th>\n",
       "      <th>ZWPZFL_DWBH（单位编号）</th>\n",
       "      <th>（凭证内码）ZWPZFL_PZNM</th>\n",
       "      <th>（分录内码）ZWPZFL_FLNM</th>\n",
       "      <th>（分录编号）ZWPZFL_FLBH</th>\n",
       "      <th>（科目编号）ZWPZFL_KMBH</th>\n",
       "      <th>（摘要）ZWPZFL_ZY</th>\n",
       "      <th>（金额）ZWPZFL_JE</th>\n",
       "    </tr>\n",
       "  </thead>\n",
       "  <tbody>\n",
       "    <tr>\n",
       "      <th>1</th>\n",
       "      <td>0</td>\n",
       "      <td>17</td>\n",
       "      <td>39</td>\n",
       "      <td>2</td>\n",
       "      <td>0</td>\n",
       "      <td>0</td>\n",
       "      <td>3.0</td>\n",
       "    </tr>\n",
       "    <tr>\n",
       "      <th>3</th>\n",
       "      <td>0</td>\n",
       "      <td>16</td>\n",
       "      <td>41</td>\n",
       "      <td>2</td>\n",
       "      <td>0</td>\n",
       "      <td>1</td>\n",
       "      <td>0.0</td>\n",
       "    </tr>\n",
       "    <tr>\n",
       "      <th>5</th>\n",
       "      <td>0</td>\n",
       "      <td>14</td>\n",
       "      <td>49</td>\n",
       "      <td>2</td>\n",
       "      <td>0</td>\n",
       "      <td>2</td>\n",
       "      <td>3.0</td>\n",
       "    </tr>\n",
       "    <tr>\n",
       "      <th>6</th>\n",
       "      <td>0</td>\n",
       "      <td>18</td>\n",
       "      <td>54</td>\n",
       "      <td>2</td>\n",
       "      <td>0</td>\n",
       "      <td>3</td>\n",
       "      <td>3.0</td>\n",
       "    </tr>\n",
       "    <tr>\n",
       "      <th>8</th>\n",
       "      <td>0</td>\n",
       "      <td>19</td>\n",
       "      <td>56</td>\n",
       "      <td>2</td>\n",
       "      <td>0</td>\n",
       "      <td>4</td>\n",
       "      <td>3.0</td>\n",
       "    </tr>\n",
       "    <tr>\n",
       "      <th>10</th>\n",
       "      <td>0</td>\n",
       "      <td>23</td>\n",
       "      <td>65</td>\n",
       "      <td>2</td>\n",
       "      <td>0</td>\n",
       "      <td>5</td>\n",
       "      <td>3.0</td>\n",
       "    </tr>\n",
       "    <tr>\n",
       "      <th>12</th>\n",
       "      <td>0</td>\n",
       "      <td>15</td>\n",
       "      <td>67</td>\n",
       "      <td>2</td>\n",
       "      <td>0</td>\n",
       "      <td>6</td>\n",
       "      <td>3.0</td>\n",
       "    </tr>\n",
       "    <tr>\n",
       "      <th>14</th>\n",
       "      <td>0</td>\n",
       "      <td>4</td>\n",
       "      <td>73</td>\n",
       "      <td>2</td>\n",
       "      <td>0</td>\n",
       "      <td>7</td>\n",
       "      <td>2.0</td>\n",
       "    </tr>\n",
       "    <tr>\n",
       "      <th>16</th>\n",
       "      <td>0</td>\n",
       "      <td>3</td>\n",
       "      <td>75</td>\n",
       "      <td>2</td>\n",
       "      <td>1</td>\n",
       "      <td>8</td>\n",
       "      <td>3.0</td>\n",
       "    </tr>\n",
       "    <tr>\n",
       "      <th>18</th>\n",
       "      <td>0</td>\n",
       "      <td>2</td>\n",
       "      <td>77</td>\n",
       "      <td>2</td>\n",
       "      <td>0</td>\n",
       "      <td>9</td>\n",
       "      <td>4.0</td>\n",
       "    </tr>\n",
       "  </tbody>\n",
       "</table>\n",
       "</div>"
      ],
      "text/plain": [
       "    ZWPZFL_DWBH（单位编号）  （凭证内码）ZWPZFL_PZNM  （分录内码）ZWPZFL_FLNM  \\\n",
       "1                   0                 17                 39   \n",
       "3                   0                 16                 41   \n",
       "5                   0                 14                 49   \n",
       "6                   0                 18                 54   \n",
       "8                   0                 19                 56   \n",
       "10                  0                 23                 65   \n",
       "12                  0                 15                 67   \n",
       "14                  0                  4                 73   \n",
       "16                  0                  3                 75   \n",
       "18                  0                  2                 77   \n",
       "\n",
       "    （分录编号）ZWPZFL_FLBH  （科目编号）ZWPZFL_KMBH  （摘要）ZWPZFL_ZY  （金额）ZWPZFL_JE  \n",
       "1                   2                  0              0            3.0  \n",
       "3                   2                  0              1            0.0  \n",
       "5                   2                  0              2            3.0  \n",
       "6                   2                  0              3            3.0  \n",
       "8                   2                  0              4            3.0  \n",
       "10                  2                  0              5            3.0  \n",
       "12                  2                  0              6            3.0  \n",
       "14                  2                  0              7            2.0  \n",
       "16                  2                  1              8            3.0  \n",
       "18                  2                  0              9            4.0  "
      ]
     },
     "execution_count": 31,
     "metadata": {},
     "output_type": "execute_result"
    }
   ],
   "source": [
    "data.loc[(prices<0), '（金额）ZWPZFL_JE'] = -1\n",
    "data.loc[(prices>=0) & (prices<1e4), '（金额）ZWPZFL_JE'] = 0\n",
    "data.loc[(prices>=1e4) & (prices<1e5), '（金额）ZWPZFL_JE'] = 1\n",
    "data.loc[(prices>=1e5) & (prices<1e6), '（金额）ZWPZFL_JE'] = 2\n",
    "data.loc[(prices>=1e6) & (prices<1e7), '（金额）ZWPZFL_JE'] = 3\n",
    "data.loc[(prices>=1e7) & (prices<1e8), '（金额）ZWPZFL_JE'] = 4\n",
    "data.loc[(prices>=1e8), '（金额）ZWPZFL_JE'] = 5\n",
    "data.head(10)"
   ]
  },
  {
   "cell_type": "code",
   "execution_count": 32,
   "metadata": {},
   "outputs": [
    {
     "data": {
      "text/html": [
       "<div>\n",
       "<style scoped>\n",
       "    .dataframe tbody tr th:only-of-type {\n",
       "        vertical-align: middle;\n",
       "    }\n",
       "\n",
       "    .dataframe tbody tr th {\n",
       "        vertical-align: top;\n",
       "    }\n",
       "\n",
       "    .dataframe thead th {\n",
       "        text-align: right;\n",
       "    }\n",
       "</style>\n",
       "<table border=\"1\" class=\"dataframe\">\n",
       "  <thead>\n",
       "    <tr style=\"text-align: right;\">\n",
       "      <th></th>\n",
       "      <th>ZWPZFL_DWBH（单位编号）</th>\n",
       "      <th>（凭证内码）ZWPZFL_PZNM</th>\n",
       "      <th>（分录内码）ZWPZFL_FLNM</th>\n",
       "      <th>（分录编号）ZWPZFL_FLBH</th>\n",
       "      <th>（科目编号）ZWPZFL_KMBH</th>\n",
       "      <th>（摘要）ZWPZFL_ZY</th>\n",
       "      <th>（金额）ZWPZFL_JE</th>\n",
       "    </tr>\n",
       "  </thead>\n",
       "  <tbody>\n",
       "    <tr>\n",
       "      <th>1</th>\n",
       "      <td>-1.21825</td>\n",
       "      <td>-0.693739</td>\n",
       "      <td>-0.725530</td>\n",
       "      <td>-0.271972</td>\n",
       "      <td>-0.694948</td>\n",
       "      <td>-1.137026</td>\n",
       "      <td>3.0</td>\n",
       "    </tr>\n",
       "    <tr>\n",
       "      <th>3</th>\n",
       "      <td>-1.21825</td>\n",
       "      <td>-0.695729</td>\n",
       "      <td>-0.724469</td>\n",
       "      <td>-0.271972</td>\n",
       "      <td>-0.694948</td>\n",
       "      <td>-1.136730</td>\n",
       "      <td>0.0</td>\n",
       "    </tr>\n",
       "    <tr>\n",
       "      <th>5</th>\n",
       "      <td>-1.21825</td>\n",
       "      <td>-0.699707</td>\n",
       "      <td>-0.720227</td>\n",
       "      <td>-0.271972</td>\n",
       "      <td>-0.694948</td>\n",
       "      <td>-1.136435</td>\n",
       "      <td>3.0</td>\n",
       "    </tr>\n",
       "    <tr>\n",
       "      <th>6</th>\n",
       "      <td>-1.21825</td>\n",
       "      <td>-0.691750</td>\n",
       "      <td>-0.717575</td>\n",
       "      <td>-0.271972</td>\n",
       "      <td>-0.694948</td>\n",
       "      <td>-1.136139</td>\n",
       "      <td>3.0</td>\n",
       "    </tr>\n",
       "    <tr>\n",
       "      <th>8</th>\n",
       "      <td>-1.21825</td>\n",
       "      <td>-0.689761</td>\n",
       "      <td>-0.716514</td>\n",
       "      <td>-0.271972</td>\n",
       "      <td>-0.694948</td>\n",
       "      <td>-1.135843</td>\n",
       "      <td>3.0</td>\n",
       "    </tr>\n",
       "    <tr>\n",
       "      <th>10</th>\n",
       "      <td>-1.21825</td>\n",
       "      <td>-0.681804</td>\n",
       "      <td>-0.711741</td>\n",
       "      <td>-0.271972</td>\n",
       "      <td>-0.694948</td>\n",
       "      <td>-1.135547</td>\n",
       "      <td>3.0</td>\n",
       "    </tr>\n",
       "    <tr>\n",
       "      <th>12</th>\n",
       "      <td>-1.21825</td>\n",
       "      <td>-0.697718</td>\n",
       "      <td>-0.710680</td>\n",
       "      <td>-0.271972</td>\n",
       "      <td>-0.694948</td>\n",
       "      <td>-1.135251</td>\n",
       "      <td>3.0</td>\n",
       "    </tr>\n",
       "    <tr>\n",
       "      <th>14</th>\n",
       "      <td>-1.21825</td>\n",
       "      <td>-0.719600</td>\n",
       "      <td>-0.707498</td>\n",
       "      <td>-0.271972</td>\n",
       "      <td>-0.694948</td>\n",
       "      <td>-1.134955</td>\n",
       "      <td>2.0</td>\n",
       "    </tr>\n",
       "    <tr>\n",
       "      <th>16</th>\n",
       "      <td>-1.21825</td>\n",
       "      <td>-0.721589</td>\n",
       "      <td>-0.706438</td>\n",
       "      <td>-0.271972</td>\n",
       "      <td>-0.678015</td>\n",
       "      <td>-1.134659</td>\n",
       "      <td>3.0</td>\n",
       "    </tr>\n",
       "    <tr>\n",
       "      <th>18</th>\n",
       "      <td>-1.21825</td>\n",
       "      <td>-0.723578</td>\n",
       "      <td>-0.705377</td>\n",
       "      <td>-0.271972</td>\n",
       "      <td>-0.694948</td>\n",
       "      <td>-1.134363</td>\n",
       "      <td>4.0</td>\n",
       "    </tr>\n",
       "  </tbody>\n",
       "</table>\n",
       "</div>"
      ],
      "text/plain": [
       "    ZWPZFL_DWBH（单位编号）  （凭证内码）ZWPZFL_PZNM  （分录内码）ZWPZFL_FLNM  \\\n",
       "1            -1.21825          -0.693739          -0.725530   \n",
       "3            -1.21825          -0.695729          -0.724469   \n",
       "5            -1.21825          -0.699707          -0.720227   \n",
       "6            -1.21825          -0.691750          -0.717575   \n",
       "8            -1.21825          -0.689761          -0.716514   \n",
       "10           -1.21825          -0.681804          -0.711741   \n",
       "12           -1.21825          -0.697718          -0.710680   \n",
       "14           -1.21825          -0.719600          -0.707498   \n",
       "16           -1.21825          -0.721589          -0.706438   \n",
       "18           -1.21825          -0.723578          -0.705377   \n",
       "\n",
       "    （分录编号）ZWPZFL_FLBH  （科目编号）ZWPZFL_KMBH  （摘要）ZWPZFL_ZY  （金额）ZWPZFL_JE  \n",
       "1           -0.271972          -0.694948      -1.137026            3.0  \n",
       "3           -0.271972          -0.694948      -1.136730            0.0  \n",
       "5           -0.271972          -0.694948      -1.136435            3.0  \n",
       "6           -0.271972          -0.694948      -1.136139            3.0  \n",
       "8           -0.271972          -0.694948      -1.135843            3.0  \n",
       "10          -0.271972          -0.694948      -1.135547            3.0  \n",
       "12          -0.271972          -0.694948      -1.135251            3.0  \n",
       "14          -0.271972          -0.694948      -1.134955            2.0  \n",
       "16          -0.271972          -0.678015      -1.134659            3.0  \n",
       "18          -0.271972          -0.694948      -1.134363            4.0  "
      ]
     },
     "execution_count": 32,
     "metadata": {},
     "output_type": "execute_result"
    }
   ],
   "source": [
    "def standardize(raw_data):\n",
    "    return ((raw_data - np.mean(raw_data, axis=0)) / np.std(raw_data, axis=0))\n",
    "numerics = ['ZWPZFL_DWBH（单位编号）',\n",
    "         '（凭证内码）ZWPZFL_PZNM',\n",
    "         '（分录内码）ZWPZFL_FLNM',\n",
    "         '（分录编号）ZWPZFL_FLBH',\n",
    "         '（科目编号）ZWPZFL_KMBH',\n",
    "         '（摘要）ZWPZFL_ZY']\n",
    "data[numerics] = standardize(data[numerics])\n",
    "data.head(10)"
   ]
  },
  {
   "cell_type": "code",
   "execution_count": 33,
   "metadata": {},
   "outputs": [],
   "source": [
    "data.to_csv('/Users/shanewang/Desktop/lyf/processed_data.csv')"
   ]
  },
  {
   "cell_type": "markdown",
   "metadata": {},
   "source": [
    "## Model and train"
   ]
  },
  {
   "cell_type": "code",
   "execution_count": 34,
   "metadata": {},
   "outputs": [],
   "source": [
    "from imblearn.over_sampling import SMOTE\n",
    "from sklearn.ensemble import RandomForestClassifier\n",
    "from sklearn.tree import DecisionTreeClassifier\n",
    "from sklearn.model_selection import train_test_split, cross_val_score\n",
    "from sklearn.metrics import accuracy_score, confusion_matrix, classification_report, f1_score\n",
    "import xgboost as xgb\n",
    "import seaborn as sns"
   ]
  },
  {
   "cell_type": "code",
   "execution_count": 35,
   "metadata": {},
   "outputs": [],
   "source": [
    "input = data[numerics]\n",
    "label = data['（金额）ZWPZFL_JE']"
   ]
  },
  {
   "cell_type": "code",
   "execution_count": 36,
   "metadata": {},
   "outputs": [
    {
     "name": "stdout",
     "output_type": "stream",
     "text": [
      "nums of train/test set:  40215 5627 40215 5627\n"
     ]
    }
   ],
   "source": [
    "smt = SMOTE(random_state=20)\n",
    "\n",
    "X_train_old, X_test, Y_train_old, Y_test = train_test_split(input, label, test_size=0.20, random_state=0)\n",
    "\n",
    "X_train, Y_train = smt.fit_sample(X_train_old, Y_train_old)\n",
    "X_train = pd.DataFrame(X_train, columns=list(X_train_old.columns))\n",
    "print(\"nums of train/test set: \", len(X_train), len(X_test), len(Y_train), len(Y_test))"
   ]
  },
  {
   "cell_type": "code",
   "execution_count": 37,
   "metadata": {},
   "outputs": [
    {
     "name": "stdout",
     "output_type": "stream",
     "text": [
      "--- Decision Tree ---\n",
      "Accuracy:  0.4858716900657544\n",
      "F1 score:  0.48776968590043224\n",
      "Confusion matrix: \n",
      " [[104  18  16  28  31  13   3]\n",
      " [ 29 922 312 107  76  16   2]\n",
      " [ 48 288 581 238  85  30   5]\n",
      " [ 43  95 240 560 232  67   6]\n",
      " [ 35  53  96 252 437 141   9]\n",
      " [ 30  18  22  63 114 125   7]\n",
      " [  3   0   3   4   4  11   5]]\n",
      "Overall report: \n",
      "               precision    recall  f1-score   support\n",
      "\n",
      "        -1.0       0.36      0.49      0.41       213\n",
      "         0.0       0.66      0.63      0.65      1464\n",
      "         1.0       0.46      0.46      0.46      1275\n",
      "         2.0       0.45      0.45      0.45      1243\n",
      "         3.0       0.45      0.43      0.44      1023\n",
      "         4.0       0.31      0.33      0.32       379\n",
      "         5.0       0.14      0.17      0.15        30\n",
      "\n",
      "   micro avg       0.49      0.49      0.49      5627\n",
      "   macro avg       0.40      0.42      0.41      5627\n",
      "weighted avg       0.49      0.49      0.49      5627\n",
      "\n"
     ]
    },
    {
     "data": {
      "image/png": "[encoded data removed]",
      "text/plain": [
       "<Figure size 648x648 with 2 Axes>"
      ]
     },
     "metadata": {
      "needs_background": "light"
     },
     "output_type": "display_data"
    }
   ],
   "source": [
    "#-------- Decision Tree --------#\n",
    "print('--- Decision Tree ---')\n",
    "tree = DecisionTreeClassifier()\n",
    "\n",
    "tree.fit(X_train, Y_train)\n",
    "\n",
    "Y_test_predict = tree.predict(X_test)\n",
    "acc = accuracy_score(Y_test, Y_test_predict)\n",
    "mat = confusion_matrix(Y_test, Y_test_predict)\n",
    "f1 = f1_score(Y_test, Y_test_predict, average='weighted')\n",
    "print(\"Accuracy: \", acc)\n",
    "print(\"F1 score: \", f1)\n",
    "print(\"Confusion matrix: \\n\", mat)\n",
    "\n",
    "plt.figure(figsize=(9, 9))\n",
    "sns.set(font_scale=1.2)\n",
    "sns.heatmap(mat, square=True, annot=True, cmap='Greens')\n",
    "plt.xlabel('True Value')\n",
    "plt.ylabel('Predict Value')\n",
    "plt.title('Decision Tree F1:{0:.2f}%'.format(f1 * 100))\n",
    "\n",
    "print('Overall report: \\n', classification_report(Y_test, Y_test_predict))"
   ]
  },
  {
   "cell_type": "code",
   "execution_count": 38,
   "metadata": {},
   "outputs": [
    {
     "name": "stdout",
     "output_type": "stream",
     "text": [
      "--- XGBoost model ---\n",
      "Accuracy:  0.5354540607783899\n",
      "F1 score:  0.5353865755269338\n",
      "Confusion matrix: \n",
      " [[ 124   12   14   25   22   14    2]\n",
      " [  19 1002  277  110   46   10    0]\n",
      " [  33  298  638  216   68   19    3]\n",
      " [  33   80  252  617  211   45    5]\n",
      " [  26   51   77  251  478  135    5]\n",
      " [  17   12   12   44  143  145    6]\n",
      " [   3    1    1    3    3   10    9]]\n",
      "Overall report: \n",
      "               precision    recall  f1-score   support\n",
      "\n",
      "        -1.0       0.49      0.58      0.53       213\n",
      "         0.0       0.69      0.68      0.69      1464\n",
      "         1.0       0.50      0.50      0.50      1275\n",
      "         2.0       0.49      0.50      0.49      1243\n",
      "         3.0       0.49      0.47      0.48      1023\n",
      "         4.0       0.38      0.38      0.38       379\n",
      "         5.0       0.30      0.30      0.30        30\n",
      "\n",
      "   micro avg       0.54      0.54      0.54      5627\n",
      "   macro avg       0.48      0.49      0.48      5627\n",
      "weighted avg       0.54      0.54      0.54      5627\n",
      "\n"
     ]
    },
    {
     "data": {
      "image/png": "[encoded data removed]",
      "text/plain": [
       "<Figure size 648x648 with 2 Axes>"
      ]
     },
     "metadata": {},
     "output_type": "display_data"
    }
   ],
   "source": [
    "#-------- XGboost ---------#\n",
    "print('--- XGBoost model ---')\n",
    "xg_reg = xgb.XGBClassifier(n_estimators=100, max_depth=20, criterion=\"entropy\")\n",
    "\n",
    "# print(\"Cross Validation score: \", np.mean(cross_val_score(xg_reg, X_train, Y_train, cv=10)))  # 10-fold 交叉验证\n",
    "xg_reg.fit(X_train, Y_train)\n",
    "\n",
    "Y_test_predict = xg_reg.predict(X_test)\n",
    "acc = accuracy_score(Y_test, Y_test_predict)\n",
    "mat = confusion_matrix(Y_test, Y_test_predict)\n",
    "f1 = f1_score(Y_test, Y_test_predict, average='weighted')\n",
    "print(\"Accuracy: \", acc)\n",
    "print(\"F1 score: \", f1)\n",
    "print(\"Confusion matrix: \\n\", mat)\n",
    "\n",
    "plt.figure(figsize=(9, 9))\n",
    "sns.set(font_scale=1.2)\n",
    "sns.heatmap(mat, square=True, annot=True, cmap='Blues')\n",
    "plt.xlabel('True Value')\n",
    "plt.ylabel('Predict Value')\n",
    "plt.title('XGBoost F1:{0:.2f}%'.format(f1 * 100))\n",
    "\n",
    "print('Overall report: \\n', classification_report(Y_test, Y_test_predict))"
   ]
  },
  {
   "cell_type": "code",
   "execution_count": 39,
   "metadata": {},
   "outputs": [
    {
     "name": "stdout",
     "output_type": "stream",
     "text": [
      "--- Random-forest model ---\n",
      "Accuracy:  0.5187488892838102\n",
      "F1 score:  0.5196496083645884\n",
      "Confusion matrix: \n",
      " [[127   9  12  19  27  17   2]\n",
      " [ 15 987 289 105  45  23   0]\n",
      " [ 35 296 610 215  89  25   5]\n",
      " [ 43  81 248 579 216  69   7]\n",
      " [ 33  48  79 246 458 155   4]\n",
      " [ 23  17  12  41 128 150   8]\n",
      " [  3   2   0   2   6   9   8]]\n",
      "Overall report: \n",
      "               precision    recall  f1-score   support\n",
      "\n",
      "        -1.0       0.46      0.60      0.52       213\n",
      "         0.0       0.69      0.67      0.68      1464\n",
      "         1.0       0.49      0.48      0.48      1275\n",
      "         2.0       0.48      0.47      0.47      1243\n",
      "         3.0       0.47      0.45      0.46      1023\n",
      "         4.0       0.33      0.40      0.36       379\n",
      "         5.0       0.24      0.27      0.25        30\n",
      "\n",
      "   micro avg       0.52      0.52      0.52      5627\n",
      "   macro avg       0.45      0.47      0.46      5627\n",
      "weighted avg       0.52      0.52      0.52      5627\n",
      "\n"
     ]
    },
    {
     "data": {
      "image/png": "[encoded data removed]",
      "text/plain": [
       "<Figure size 648x648 with 2 Axes>"
      ]
     },
     "metadata": {},
     "output_type": "display_data"
    }
   ],
   "source": [
    "# ------- RF --------#\n",
    "print('--- Random-forest model ---')\n",
    "\n",
    "forest = RandomForestClassifier(n_estimators=100, max_depth=20, criterion=\"entropy\")\n",
    "# print(\"Cross Validation Score: \", np.mean(cross_val_score(forest, X_train, Y_train, cv=10)))\n",
    "forest.fit(X_train, Y_train)\n",
    "\n",
    "Y_test_predict = forest.predict(X_test)\n",
    "acc = accuracy_score(Y_test, Y_test_predict)\n",
    "mat = confusion_matrix(Y_test, Y_test_predict)\n",
    "f1 = f1_score(Y_test, Y_test_predict, average='weighted')\n",
    "print(\"Accuracy: \", acc)\n",
    "print(\"F1 score: \", f1)\n",
    "print(\"Confusion matrix: \\n\", mat)\n",
    "\n",
    "plt.figure(figsize=(9, 9))\n",
    "sns.set(font_scale=1.2)\n",
    "sns.heatmap(mat, square=True, annot=True, cmap='Reds')\n",
    "plt.xlabel('True Value')\n",
    "plt.ylabel('Predict Value')\n",
    "plt.title('RF F1:{0:.2f}%'.format(f1 * 100))\n",
    "\n",
    "print('Overall report: \\n', classification_report(Y_test, Y_test_predict))"
   ]
  }
 ],
 "metadata": {
  "kernelspec": {
   "display_name": "Python 3",
   "language": "python",
   "name": "python3"
  },
  "language_info": {
   "codemirror_mode": {
    "name": "ipython",
    "version": 3
   },
   "file_extension": ".py",
   "mimetype": "text/x-python",
   "name": "python",
   "nbconvert_exporter": "python",
   "pygments_lexer": "ipython3",
   "version": "3.6.7"
  }
 },
 "nbformat": 4,
 "nbformat_minor": 2
}
