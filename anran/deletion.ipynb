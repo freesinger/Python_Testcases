{
 "cells": [
  {
   "cell_type": "code",
   "execution_count": null,
   "metadata": {},
   "outputs": [],
   "source": [
    "import pandas as pd\n",
    "import numpy as np\n",
    "import os\n",
    "pd.set_option('display.max_rows', 500)\n",
    "pd.set_option('display.max_columns', 500)\n",
    "pd.set_option('display.width', 1000)"
   ]
  },
  {
   "cell_type": "code",
   "execution_count": null,
   "metadata": {},
   "outputs": [],
   "source": [
    "FILENAME = 'Copy of 四季度二级指标.xlsx'\n",
    "df = pd.read_excel(FILENAME, sheet_name='项目（一级+二级）')\n",
    "sheet1 = df.copy(deep=True)\n",
    "sheet1.head()"
   ]
  },
  {
   "cell_type": "code",
   "execution_count": null,
   "metadata": {},
   "outputs": [],
   "source": [
    "df = pd.read_excel(FILENAME, sheet_name='项目（二级）')\n",
    "sheet2 = df.copy(deep=True)\n",
    "sheet2 = sheet2.drop('Unnamed: 0', axis=1)\n",
    "sheet2.head()"
   ]
  },
  {
   "cell_type": "code",
   "execution_count": null,
   "metadata": {},
   "outputs": [],
   "source": [
    "pro2delete = sheet2['所有项目（二级）'].values.tolist()\n",
    "pro2delete.remove('标准')\n",
    "for projectname in pro2delete:\n",
    "    sheet1.drop(sheet1[sheet1['所有项目（一级+二级）'] == projectname].index, inplace=True)\n",
    "sheet1.head(20)"
   ]
  },
  {
   "cell_type": "code",
   "execution_count": null,
   "metadata": {},
   "outputs": [],
   "source": [
    "sheet1.to_excel('deletion.xlsx', index=False)"
   ]
  }
 ],
 "metadata": {
  "kernelspec": {
   "display_name": "Python 3",
   "language": "python",
   "name": "python3"
  },
  "language_info": {
   "codemirror_mode": {
    "name": "ipython",
    "version": 3
   },
   "file_extension": ".py",
   "mimetype": "text/x-python",
   "name": "python",
   "nbconvert_exporter": "python",
   "pygments_lexer": "ipython3",
   "version": "3.6.7"
  }
 },
 "nbformat": 4,
 "nbformat_minor": 2
}
