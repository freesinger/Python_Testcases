{
 "cells": [
  {
   "cell_type": "code",
   "execution_count": null,
   "metadata": {},
   "outputs": [],
   "source": [
    "import pandas as pd\n",
    "import numpy as np\n",
    "import os\n",
    "pd.set_option('display.max_rows', 500)\n",
    "pd.set_option('display.max_columns', 500)\n",
    "pd.set_option('display.width', 1000)"
   ]
  },
  {
   "cell_type": "code",
   "execution_count": null,
   "metadata": {},
   "outputs": [],
   "source": [
    "df = pd.read_excel('sample.xlsx', sheet_name='一级考核-错号率')\n",
    "raw = df.copy(deep=True)\n",
    "raw.head()"
   ]
  },
  {
   "cell_type": "code",
   "execution_count": null,
   "metadata": {},
   "outputs": [],
   "source": [
    "def simplify(raw: pd.DataFrame):    \n",
    "    labels = ['行标签', '总计', '接触量', '错号数', '错号量']\n",
    "    for name in raw.columns.tolist():\n",
    "        if name not in labels:\n",
    "            raw.drop(name, axis=1, inplace=True) \n",
    "simplify(raw)\n",
    "raw.head(10)"
   ]
  },
  {
   "cell_type": "code",
   "execution_count": null,
   "metadata": {},
   "outputs": [],
   "source": [
    "raw.to_excel('sampleTest.xlsx', index=False)"
   ]
  },
  {
   "cell_type": "code",
   "execution_count": null,
   "metadata": {},
   "outputs": [],
   "source": [
    "city_names = []\n",
    "deprecated_names = ['集团', '上海区域']\n",
    "for name in raw['行标签'].tolist():\n",
    "    if name not in deprecated_names and '准业主' not in name \\\n",
    "                                    and '磨合期' not in name \\\n",
    "                                    and '老业主' not in name \\\n",
    "                                    and '稳定期' not in name:\n",
    "        city_names.append(name)\n",
    "\n",
    "print(city_names)\n",
    "len(city_names)"
   ]
  },
  {
   "cell_type": "code",
   "execution_count": null,
   "metadata": {
    "scrolled": true
   },
   "outputs": [],
   "source": [
    "row_records = []\n",
    "for _, row in raw.iterrows():\n",
    "    row_records.append([row['行标签'], row['总计'], row['错号数']])\n",
    "    # print(row['行标签'], row['总计'], row['错号数'])\n",
    "row_records"
   ]
  },
  {
   "cell_type": "code",
   "execution_count": null,
   "metadata": {},
   "outputs": [],
   "source": [
    "wrong2city = {}\n",
    "city_appeared = []\n",
    "cities = []\n",
    "slice_idx = []\n",
    "zyz = []\n",
    "mhq = []\n",
    "wdq = []\n",
    "lyz = []\n",
    "\n",
    "for i in range(2, len(row_records)):\n",
    "    tag = row_records[i][0]\n",
    "    if tag in city_names:\n",
    "        wrong2city[row_records[i][2]] = tag\n",
    "        city_appeared.append(tag)\n",
    "        slice_idx.append(i)\n",
    "slice_idx.append(len(row_records))\n",
    "for i in range(len(slice_idx)-1):\n",
    "    cities.append(row_records[slice_idx[i]:slice_idx[i+1]])\n",
    "print(cities[0])    \n",
    "print(city_appeared)\n",
    "print(slice_idx)"
   ]
  },
  {
   "cell_type": "code",
   "execution_count": null,
   "metadata": {
    "scrolled": false
   },
   "outputs": [],
   "source": [
    "for city_info in cities:\n",
    "    CITY = city_info[0][0]\n",
    "    for line in city_info[1:]:\n",
    "        if '准业主' in line[0]:\n",
    "            line[0] = CITY + '-' + line[0]\n",
    "            zyz.append(line)\n",
    "        if '磨合期' in line[0]:\n",
    "            line[0] = CITY + '-' + line[0]\n",
    "            mhq.append(line)\n",
    "        if '稳定期' in line[0]:\n",
    "            line[0] = CITY + '-' + line[0]\n",
    "            wdq.append(line)\n",
    "        if '老业主' in line[0]:\n",
    "            line[0] = CITY + '-' + line[0]\n",
    "            lyz.append(line)\n",
    "zyz"
   ]
  },
  {
   "cell_type": "code",
   "execution_count": null,
   "metadata": {},
   "outputs": [],
   "source": [
    "def analyze(l: list):\n",
    "    res = {}\n",
    "    for i in range(len(l)):\n",
    "        city = l[i][0].split('-')[0]\n",
    "        if not res.__contains__(city):\n",
    "            res[city] = [l[i][1], l[i][2]]\n",
    "        else:\n",
    "            res[city][0] += l[i][1]\n",
    "            res[city][1] += l[i][2]\n",
    "    return res\n",
    "print(analyze(zyz))\n",
    "print(analyze(mhq))\n",
    "print(analyze(wdq))\n",
    "print(analyze(lyz))"
   ]
  },
  {
   "cell_type": "code",
   "execution_count": null,
   "metadata": {},
   "outputs": [],
   "source": [
    "def calculate(d: dict):\n",
    "    for k in d.keys():\n",
    "        print(k, d[k])\n",
    "        d[k].append(float('{:.5f}'.format(d[k][1]/d[k][0])))\n",
    "    return d\n",
    "print(calculate(analyze(zyz)))\n",
    "print(calculate(analyze(mhq)))\n",
    "print(calculate(analyze(wdq)))\n",
    "print(calculate(analyze(lyz)))"
   ]
  },
  {
   "cell_type": "code",
   "execution_count": null,
   "metadata": {},
   "outputs": [],
   "source": [
    "zyz_list = []\n",
    "mhq_list = []\n",
    "wdq_list = []\n",
    "lyz_list = []\n",
    "for k, v in calculate(analyze(zyz)).items():\n",
    "    zyz_list.append(tuple([k, '准业主'] + v))\n",
    "for k, v in calculate(analyze(mhq)).items():\n",
    "    mhq_list.append(tuple([k, '磨合期'] + v))\n",
    "for k, v in calculate(analyze(wdq)).items():\n",
    "    wdq_list.append(tuple([k, '稳定期'] + v))\n",
    "for k, v in calculate(analyze(lyz)).items():\n",
    "    lyz_list.append(tuple([k, '老业主'] + v))"
   ]
  },
  {
   "cell_type": "code",
   "execution_count": null,
   "metadata": {},
   "outputs": [],
   "source": [
    "labels = ['城市', '业主阶段', '接触量', '错号数', '错号率']\n",
    "zyz_xlxs = pd.DataFrame(data=zyz_list, columns=labels)\n",
    "zyz_xlxs = zyz_xlxs.sort_values(by='错号率', ascending=False)\n",
    "zyz_xlxs.head(20)"
   ]
  },
  {
   "cell_type": "code",
   "execution_count": null,
   "metadata": {},
   "outputs": [],
   "source": [
    "mhq_xlxs = pd.DataFrame(data=mhq_list, columns=labels)\n",
    "mhq_xlxs = mhq_xlxs.sort_values(by='错号率', ascending=False)\n",
    "mhq_xlxs.head(20)"
   ]
  },
  {
   "cell_type": "code",
   "execution_count": null,
   "metadata": {},
   "outputs": [],
   "source": [
    "wdq_xlxs = pd.DataFrame(data=wdq_list, columns=labels)\n",
    "wdq_xlxs = wdq_xlxs.sort_values(by='错号率', ascending=False)\n",
    "wdq_xlxs.head(20)"
   ]
  },
  {
   "cell_type": "code",
   "execution_count": null,
   "metadata": {},
   "outputs": [],
   "source": [
    "lyz_xlxs = pd.DataFrame(data=lyz_list, columns=labels)\n",
    "lyz_xlxs = lyz_xlxs.sort_values(by='错号率', ascending=False)\n",
    "lyz_xlxs.head(20)"
   ]
  },
  {
   "cell_type": "code",
   "execution_count": null,
   "metadata": {},
   "outputs": [],
   "source": [
    "# Shanghai\n",
    "df = pd.read_excel('sample.xlsx', sheet_name='上海区域')\n",
    "raw = df.copy(deep=True)\n",
    "raw.head()\n",
    "simplify(raw)\n",
    "raw.head(5)"
   ]
  },
  {
   "cell_type": "code",
   "execution_count": null,
   "metadata": {},
   "outputs": [],
   "source": [
    "for _, rows in raw.iterrows():\n",
    "    if '准业主' in rows['行标签']:\n",
    "        # tuple = ('上海区域', '准业主', rows['接触量'], rows['错号量'], float('{:.5f}'.format(rows['错号量']/rows['接触量'])))\n",
    "        # print(('上海区域', '准业主', rows['接触量'], rows['错号量'], float('{:.5f}'.format(rows['错号量']/rows['接触量']))))\n",
    "        shzyz = pd.DataFrame({'城市': ['上海区域'],\n",
    "                             '业主阶段': ['准业主'],\n",
    "                             '接触量': rows['接触量'],\n",
    "                             '错号数': rows['错号量'],\n",
    "                             '错号率': float('{:.5f}'.format(rows['错号量']/rows['接触量']))})\n",
    "        zyz_xlxs = pd.concat([zyz_xlxs, shzyz])\n",
    "\n",
    "    if '磨合期' in rows['行标签']:\n",
    "        print(('上海区域', 'mhq', rows['接触量'], rows['错号量'], float('{:.5f}'.format(rows['错号量']/rows['接触量']))))\n",
    "        shmhq = pd.DataFrame({'城市': ['上海区域'],\n",
    "                             '业主阶段': ['磨合期'],\n",
    "                             '接触量': rows['接触量'],\n",
    "                             '错号数': rows['错号量'],\n",
    "                             '错号率': float('{:.5f}'.format(rows['错号量']/rows['接触量']))})\n",
    "        \n",
    "        mhq_xlxs = pd.concat([mhq_xlxs, shmhq])\n",
    "    if '稳定期' in rows['行标签']:\n",
    "        print(('上海区域', 'wdq', rows['接触量'], rows['错号量'], float('{:.5f}'.format(rows['错号量']/rows['接触量']))))\n",
    "        shwdq = pd.DataFrame({'城市': ['上海区域'],\n",
    "                             '业主阶段': ['稳定期'],\n",
    "                             '接触量': rows['接触量'],\n",
    "                             '错号数': rows['错号量'],\n",
    "                             '错号率': float('{:.5f}'.format(rows['错号量']/rows['接触量']))})\n",
    "        wdq_xlxs = pd.concat([wdq_xlxs, shwdq])\n",
    "    if '老业主' in rows['行标签']:\n",
    "        print(('上海区域', 'lyz', rows['接触量'], rows['错号量'], float('{:.5f}'.format(rows['错号量']/rows['接触量']))))\n",
    "        shlyz = pd.DataFrame({'城市': ['上海区域'],\n",
    "                             '业主阶段': ['老业主'],\n",
    "                             '接触量': rows['接触量'],\n",
    "                             '错号数': rows['错号量'],\n",
    "                             '错号率': float('{:.5f}'.format(rows['错号量']/rows['接触量']))})\n",
    "        lyz_xlxs = pd.concat([lyz_xlxs, shlyz])\n",
    "\n",
    "zyz_xlxs.head(30)"
   ]
  },
  {
   "cell_type": "code",
   "execution_count": null,
   "metadata": {},
   "outputs": [],
   "source": [
    "mhq_xlxs.head(20)"
   ]
  },
  {
   "cell_type": "code",
   "execution_count": null,
   "metadata": {},
   "outputs": [],
   "source": [
    "wdq_xlxs.head(10)"
   ]
  },
  {
   "cell_type": "code",
   "execution_count": null,
   "metadata": {},
   "outputs": [],
   "source": [
    "lyz_xlxs.head(10)"
   ]
  },
  {
   "cell_type": "code",
   "execution_count": null,
   "metadata": {},
   "outputs": [],
   "source": [
    "# funtion\n",
    "def multiple_dfs(df_list, sheets, file_name, spaces):\n",
    "    writer = pd.ExcelWriter(file_name,engine='xlsxwriter')   \n",
    "    row = 0\n",
    "    for dataframe in df_list:\n",
    "        dataframe.to_excel(writer,sheet_name=sheets,startrow=row , startcol=0, index=False)   \n",
    "        row = row + len(dataframe.index) + spaces + 1\n",
    "    writer.save()\n",
    "\n",
    "# list of dataframes\n",
    "dfs = [zyz_xlxs, mhq_xlxs, wdq_xlxs, lyz_xlxs]\n",
    "\n",
    "# run function\n",
    "multiple_dfs(dfs, 'Validation', 'test1.xlsx', 1)"
   ]
  }
 ],
 "metadata": {
  "kernelspec": {
   "display_name": "Python 3",
   "language": "python",
   "name": "python3"
  },
  "language_info": {
   "codemirror_mode": {
    "name": "ipython",
    "version": 3
   },
   "file_extension": ".py",
   "mimetype": "text/x-python",
   "name": "python",
   "nbconvert_exporter": "python",
   "pygments_lexer": "ipython3",
   "version": "3.6.7"
  }
 },
 "nbformat": 4,
 "nbformat_minor": 2
}
